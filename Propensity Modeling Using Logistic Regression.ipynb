{
 "cells": [
  {
   "cell_type": "markdown",
   "metadata": {},
   "source": [
    "# Propensity Modelling"
   ]
  },
  {
   "cell_type": "markdown",
   "metadata": {},
   "source": [
    "* Building a propensity to buy model on the [Online Shoppers Purchasing Intention](https://archive.ics.uci.edu/ml/datasets/Online+Shoppers+Purchasing+Intention+Dataset) data set."
   ]
  },
  {
   "cell_type": "markdown",
   "metadata": {},
   "source": [
    "**Let's first import all the necessaray python modules**"
   ]
  },
  {
   "cell_type": "code",
   "execution_count": 1,
   "metadata": {},
   "outputs": [],
   "source": [
    "import pandas as pd\n",
    "import numpy as np\n",
    "import matplotlib.pyplot as plt\n",
    "%matplotlib inline\n",
    "import seaborn as sns\n",
    "from sklearn.preprocessing import LabelEncoder, OneHotEncoder\n",
    "import warnings\n",
    "warnings.filterwarnings(\"ignore\")"
   ]
  },
  {
   "cell_type": "markdown",
   "metadata": {},
   "source": [
    "**Now, let's read the data and then perform some EDA**"
   ]
  },
  {
   "cell_type": "code",
   "execution_count": 2,
   "metadata": {},
   "outputs": [
    {
     "data": {
      "text/html": [
       "<div>\n",
       "<style scoped>\n",
       "    .dataframe tbody tr th:only-of-type {\n",
       "        vertical-align: middle;\n",
       "    }\n",
       "\n",
       "    .dataframe tbody tr th {\n",
       "        vertical-align: top;\n",
       "    }\n",
       "\n",
       "    .dataframe thead th {\n",
       "        text-align: right;\n",
       "    }\n",
       "</style>\n",
       "<table border=\"1\" class=\"dataframe\">\n",
       "  <thead>\n",
       "    <tr style=\"text-align: right;\">\n",
       "      <th></th>\n",
       "      <th>0</th>\n",
       "      <th>1</th>\n",
       "      <th>2</th>\n",
       "      <th>3</th>\n",
       "      <th>4</th>\n",
       "    </tr>\n",
       "  </thead>\n",
       "  <tbody>\n",
       "    <tr>\n",
       "      <th>Administrative</th>\n",
       "      <td>0</td>\n",
       "      <td>0</td>\n",
       "      <td>0</td>\n",
       "      <td>0</td>\n",
       "      <td>0</td>\n",
       "    </tr>\n",
       "    <tr>\n",
       "      <th>Administrative_Duration</th>\n",
       "      <td>0</td>\n",
       "      <td>0</td>\n",
       "      <td>0</td>\n",
       "      <td>0</td>\n",
       "      <td>0</td>\n",
       "    </tr>\n",
       "    <tr>\n",
       "      <th>Informational</th>\n",
       "      <td>0</td>\n",
       "      <td>0</td>\n",
       "      <td>0</td>\n",
       "      <td>0</td>\n",
       "      <td>0</td>\n",
       "    </tr>\n",
       "    <tr>\n",
       "      <th>Informational_Duration</th>\n",
       "      <td>0</td>\n",
       "      <td>0</td>\n",
       "      <td>0</td>\n",
       "      <td>0</td>\n",
       "      <td>0</td>\n",
       "    </tr>\n",
       "    <tr>\n",
       "      <th>ProductRelated</th>\n",
       "      <td>1</td>\n",
       "      <td>2</td>\n",
       "      <td>1</td>\n",
       "      <td>2</td>\n",
       "      <td>10</td>\n",
       "    </tr>\n",
       "    <tr>\n",
       "      <th>ProductRelated_Duration</th>\n",
       "      <td>0</td>\n",
       "      <td>64</td>\n",
       "      <td>0</td>\n",
       "      <td>2.66667</td>\n",
       "      <td>627.5</td>\n",
       "    </tr>\n",
       "    <tr>\n",
       "      <th>BounceRates</th>\n",
       "      <td>0.2</td>\n",
       "      <td>0</td>\n",
       "      <td>0.2</td>\n",
       "      <td>0.05</td>\n",
       "      <td>0.02</td>\n",
       "    </tr>\n",
       "    <tr>\n",
       "      <th>ExitRates</th>\n",
       "      <td>0.2</td>\n",
       "      <td>0.1</td>\n",
       "      <td>0.2</td>\n",
       "      <td>0.14</td>\n",
       "      <td>0.05</td>\n",
       "    </tr>\n",
       "    <tr>\n",
       "      <th>PageValues</th>\n",
       "      <td>0</td>\n",
       "      <td>0</td>\n",
       "      <td>0</td>\n",
       "      <td>0</td>\n",
       "      <td>0</td>\n",
       "    </tr>\n",
       "    <tr>\n",
       "      <th>SpecialDay</th>\n",
       "      <td>0</td>\n",
       "      <td>0</td>\n",
       "      <td>0</td>\n",
       "      <td>0</td>\n",
       "      <td>0</td>\n",
       "    </tr>\n",
       "    <tr>\n",
       "      <th>Month</th>\n",
       "      <td>Feb</td>\n",
       "      <td>Feb</td>\n",
       "      <td>Feb</td>\n",
       "      <td>Feb</td>\n",
       "      <td>Feb</td>\n",
       "    </tr>\n",
       "    <tr>\n",
       "      <th>OperatingSystems</th>\n",
       "      <td>1</td>\n",
       "      <td>2</td>\n",
       "      <td>4</td>\n",
       "      <td>3</td>\n",
       "      <td>3</td>\n",
       "    </tr>\n",
       "    <tr>\n",
       "      <th>Browser</th>\n",
       "      <td>1</td>\n",
       "      <td>2</td>\n",
       "      <td>1</td>\n",
       "      <td>2</td>\n",
       "      <td>3</td>\n",
       "    </tr>\n",
       "    <tr>\n",
       "      <th>Region</th>\n",
       "      <td>1</td>\n",
       "      <td>1</td>\n",
       "      <td>9</td>\n",
       "      <td>2</td>\n",
       "      <td>1</td>\n",
       "    </tr>\n",
       "    <tr>\n",
       "      <th>TrafficType</th>\n",
       "      <td>1</td>\n",
       "      <td>2</td>\n",
       "      <td>3</td>\n",
       "      <td>4</td>\n",
       "      <td>4</td>\n",
       "    </tr>\n",
       "    <tr>\n",
       "      <th>VisitorType</th>\n",
       "      <td>Returning_Visitor</td>\n",
       "      <td>Returning_Visitor</td>\n",
       "      <td>Returning_Visitor</td>\n",
       "      <td>Returning_Visitor</td>\n",
       "      <td>Returning_Visitor</td>\n",
       "    </tr>\n",
       "    <tr>\n",
       "      <th>Weekend</th>\n",
       "      <td>False</td>\n",
       "      <td>False</td>\n",
       "      <td>False</td>\n",
       "      <td>False</td>\n",
       "      <td>True</td>\n",
       "    </tr>\n",
       "    <tr>\n",
       "      <th>Revenue</th>\n",
       "      <td>False</td>\n",
       "      <td>False</td>\n",
       "      <td>False</td>\n",
       "      <td>False</td>\n",
       "      <td>False</td>\n",
       "    </tr>\n",
       "  </tbody>\n",
       "</table>\n",
       "</div>"
      ],
      "text/plain": [
       "                                         0                  1  \\\n",
       "Administrative                           0                  0   \n",
       "Administrative_Duration                  0                  0   \n",
       "Informational                            0                  0   \n",
       "Informational_Duration                   0                  0   \n",
       "ProductRelated                           1                  2   \n",
       "ProductRelated_Duration                  0                 64   \n",
       "BounceRates                            0.2                  0   \n",
       "ExitRates                              0.2                0.1   \n",
       "PageValues                               0                  0   \n",
       "SpecialDay                               0                  0   \n",
       "Month                                  Feb                Feb   \n",
       "OperatingSystems                         1                  2   \n",
       "Browser                                  1                  2   \n",
       "Region                                   1                  1   \n",
       "TrafficType                              1                  2   \n",
       "VisitorType              Returning_Visitor  Returning_Visitor   \n",
       "Weekend                              False              False   \n",
       "Revenue                              False              False   \n",
       "\n",
       "                                         2                  3  \\\n",
       "Administrative                           0                  0   \n",
       "Administrative_Duration                  0                  0   \n",
       "Informational                            0                  0   \n",
       "Informational_Duration                   0                  0   \n",
       "ProductRelated                           1                  2   \n",
       "ProductRelated_Duration                  0            2.66667   \n",
       "BounceRates                            0.2               0.05   \n",
       "ExitRates                              0.2               0.14   \n",
       "PageValues                               0                  0   \n",
       "SpecialDay                               0                  0   \n",
       "Month                                  Feb                Feb   \n",
       "OperatingSystems                         4                  3   \n",
       "Browser                                  1                  2   \n",
       "Region                                   9                  2   \n",
       "TrafficType                              3                  4   \n",
       "VisitorType              Returning_Visitor  Returning_Visitor   \n",
       "Weekend                              False              False   \n",
       "Revenue                              False              False   \n",
       "\n",
       "                                         4  \n",
       "Administrative                           0  \n",
       "Administrative_Duration                  0  \n",
       "Informational                            0  \n",
       "Informational_Duration                   0  \n",
       "ProductRelated                          10  \n",
       "ProductRelated_Duration              627.5  \n",
       "BounceRates                           0.02  \n",
       "ExitRates                             0.05  \n",
       "PageValues                               0  \n",
       "SpecialDay                               0  \n",
       "Month                                  Feb  \n",
       "OperatingSystems                         3  \n",
       "Browser                                  3  \n",
       "Region                                   1  \n",
       "TrafficType                              4  \n",
       "VisitorType              Returning_Visitor  \n",
       "Weekend                               True  \n",
       "Revenue                              False  "
      ]
     },
     "execution_count": 2,
     "metadata": {},
     "output_type": "execute_result"
    }
   ],
   "source": [
    "df=pd.read_csv('online_shoppers_intention.csv')\n",
    "df.head().T"
   ]
  },
  {
   "cell_type": "code",
   "execution_count": 3,
   "metadata": {},
   "outputs": [
    {
     "data": {
      "text/plain": [
       "(12330, 18)"
      ]
     },
     "execution_count": 3,
     "metadata": {},
     "output_type": "execute_result"
    }
   ],
   "source": [
    "df.shape"
   ]
  },
  {
   "cell_type": "code",
   "execution_count": 4,
   "metadata": {},
   "outputs": [
    {
     "data": {
      "text/html": [
       "<div>\n",
       "<style scoped>\n",
       "    .dataframe tbody tr th:only-of-type {\n",
       "        vertical-align: middle;\n",
       "    }\n",
       "\n",
       "    .dataframe tbody tr th {\n",
       "        vertical-align: top;\n",
       "    }\n",
       "\n",
       "    .dataframe thead th {\n",
       "        text-align: right;\n",
       "    }\n",
       "</style>\n",
       "<table border=\"1\" class=\"dataframe\">\n",
       "  <thead>\n",
       "    <tr style=\"text-align: right;\">\n",
       "      <th></th>\n",
       "      <th>Administrative</th>\n",
       "      <th>Administrative_Duration</th>\n",
       "      <th>Informational</th>\n",
       "      <th>Informational_Duration</th>\n",
       "      <th>ProductRelated</th>\n",
       "      <th>ProductRelated_Duration</th>\n",
       "      <th>BounceRates</th>\n",
       "      <th>ExitRates</th>\n",
       "      <th>PageValues</th>\n",
       "      <th>SpecialDay</th>\n",
       "      <th>Month</th>\n",
       "      <th>OperatingSystems</th>\n",
       "      <th>Browser</th>\n",
       "      <th>Region</th>\n",
       "      <th>TrafficType</th>\n",
       "      <th>VisitorType</th>\n",
       "      <th>Weekend</th>\n",
       "      <th>Revenue</th>\n",
       "    </tr>\n",
       "  </thead>\n",
       "  <tbody>\n",
       "    <tr>\n",
       "      <th>0</th>\n",
       "      <td>0</td>\n",
       "      <td>0.0</td>\n",
       "      <td>0</td>\n",
       "      <td>0.0</td>\n",
       "      <td>1</td>\n",
       "      <td>0.000000</td>\n",
       "      <td>0.200000</td>\n",
       "      <td>0.200000</td>\n",
       "      <td>0.000000</td>\n",
       "      <td>0.0</td>\n",
       "      <td>Feb</td>\n",
       "      <td>1</td>\n",
       "      <td>1</td>\n",
       "      <td>1</td>\n",
       "      <td>1</td>\n",
       "      <td>Returning_Visitor</td>\n",
       "      <td>False</td>\n",
       "      <td>False</td>\n",
       "    </tr>\n",
       "    <tr>\n",
       "      <th>1</th>\n",
       "      <td>0</td>\n",
       "      <td>0.0</td>\n",
       "      <td>0</td>\n",
       "      <td>0.0</td>\n",
       "      <td>2</td>\n",
       "      <td>64.000000</td>\n",
       "      <td>0.000000</td>\n",
       "      <td>0.100000</td>\n",
       "      <td>0.000000</td>\n",
       "      <td>0.0</td>\n",
       "      <td>Feb</td>\n",
       "      <td>2</td>\n",
       "      <td>2</td>\n",
       "      <td>1</td>\n",
       "      <td>2</td>\n",
       "      <td>Returning_Visitor</td>\n",
       "      <td>False</td>\n",
       "      <td>False</td>\n",
       "    </tr>\n",
       "    <tr>\n",
       "      <th>2</th>\n",
       "      <td>0</td>\n",
       "      <td>0.0</td>\n",
       "      <td>0</td>\n",
       "      <td>0.0</td>\n",
       "      <td>1</td>\n",
       "      <td>0.000000</td>\n",
       "      <td>0.200000</td>\n",
       "      <td>0.200000</td>\n",
       "      <td>0.000000</td>\n",
       "      <td>0.0</td>\n",
       "      <td>Feb</td>\n",
       "      <td>4</td>\n",
       "      <td>1</td>\n",
       "      <td>9</td>\n",
       "      <td>3</td>\n",
       "      <td>Returning_Visitor</td>\n",
       "      <td>False</td>\n",
       "      <td>False</td>\n",
       "    </tr>\n",
       "    <tr>\n",
       "      <th>3</th>\n",
       "      <td>0</td>\n",
       "      <td>0.0</td>\n",
       "      <td>0</td>\n",
       "      <td>0.0</td>\n",
       "      <td>2</td>\n",
       "      <td>2.666667</td>\n",
       "      <td>0.050000</td>\n",
       "      <td>0.140000</td>\n",
       "      <td>0.000000</td>\n",
       "      <td>0.0</td>\n",
       "      <td>Feb</td>\n",
       "      <td>3</td>\n",
       "      <td>2</td>\n",
       "      <td>2</td>\n",
       "      <td>4</td>\n",
       "      <td>Returning_Visitor</td>\n",
       "      <td>False</td>\n",
       "      <td>False</td>\n",
       "    </tr>\n",
       "    <tr>\n",
       "      <th>4</th>\n",
       "      <td>0</td>\n",
       "      <td>0.0</td>\n",
       "      <td>0</td>\n",
       "      <td>0.0</td>\n",
       "      <td>10</td>\n",
       "      <td>627.500000</td>\n",
       "      <td>0.020000</td>\n",
       "      <td>0.050000</td>\n",
       "      <td>0.000000</td>\n",
       "      <td>0.0</td>\n",
       "      <td>Feb</td>\n",
       "      <td>3</td>\n",
       "      <td>3</td>\n",
       "      <td>1</td>\n",
       "      <td>4</td>\n",
       "      <td>Returning_Visitor</td>\n",
       "      <td>True</td>\n",
       "      <td>False</td>\n",
       "    </tr>\n",
       "    <tr>\n",
       "      <th>...</th>\n",
       "      <td>...</td>\n",
       "      <td>...</td>\n",
       "      <td>...</td>\n",
       "      <td>...</td>\n",
       "      <td>...</td>\n",
       "      <td>...</td>\n",
       "      <td>...</td>\n",
       "      <td>...</td>\n",
       "      <td>...</td>\n",
       "      <td>...</td>\n",
       "      <td>...</td>\n",
       "      <td>...</td>\n",
       "      <td>...</td>\n",
       "      <td>...</td>\n",
       "      <td>...</td>\n",
       "      <td>...</td>\n",
       "      <td>...</td>\n",
       "      <td>...</td>\n",
       "    </tr>\n",
       "    <tr>\n",
       "      <th>12325</th>\n",
       "      <td>3</td>\n",
       "      <td>145.0</td>\n",
       "      <td>0</td>\n",
       "      <td>0.0</td>\n",
       "      <td>53</td>\n",
       "      <td>1783.791667</td>\n",
       "      <td>0.007143</td>\n",
       "      <td>0.029031</td>\n",
       "      <td>12.241717</td>\n",
       "      <td>0.0</td>\n",
       "      <td>Dec</td>\n",
       "      <td>4</td>\n",
       "      <td>6</td>\n",
       "      <td>1</td>\n",
       "      <td>1</td>\n",
       "      <td>Returning_Visitor</td>\n",
       "      <td>True</td>\n",
       "      <td>False</td>\n",
       "    </tr>\n",
       "    <tr>\n",
       "      <th>12326</th>\n",
       "      <td>0</td>\n",
       "      <td>0.0</td>\n",
       "      <td>0</td>\n",
       "      <td>0.0</td>\n",
       "      <td>5</td>\n",
       "      <td>465.750000</td>\n",
       "      <td>0.000000</td>\n",
       "      <td>0.021333</td>\n",
       "      <td>0.000000</td>\n",
       "      <td>0.0</td>\n",
       "      <td>Nov</td>\n",
       "      <td>3</td>\n",
       "      <td>2</td>\n",
       "      <td>1</td>\n",
       "      <td>8</td>\n",
       "      <td>Returning_Visitor</td>\n",
       "      <td>True</td>\n",
       "      <td>False</td>\n",
       "    </tr>\n",
       "    <tr>\n",
       "      <th>12327</th>\n",
       "      <td>0</td>\n",
       "      <td>0.0</td>\n",
       "      <td>0</td>\n",
       "      <td>0.0</td>\n",
       "      <td>6</td>\n",
       "      <td>184.250000</td>\n",
       "      <td>0.083333</td>\n",
       "      <td>0.086667</td>\n",
       "      <td>0.000000</td>\n",
       "      <td>0.0</td>\n",
       "      <td>Nov</td>\n",
       "      <td>3</td>\n",
       "      <td>2</td>\n",
       "      <td>1</td>\n",
       "      <td>13</td>\n",
       "      <td>Returning_Visitor</td>\n",
       "      <td>True</td>\n",
       "      <td>False</td>\n",
       "    </tr>\n",
       "    <tr>\n",
       "      <th>12328</th>\n",
       "      <td>4</td>\n",
       "      <td>75.0</td>\n",
       "      <td>0</td>\n",
       "      <td>0.0</td>\n",
       "      <td>15</td>\n",
       "      <td>346.000000</td>\n",
       "      <td>0.000000</td>\n",
       "      <td>0.021053</td>\n",
       "      <td>0.000000</td>\n",
       "      <td>0.0</td>\n",
       "      <td>Nov</td>\n",
       "      <td>2</td>\n",
       "      <td>2</td>\n",
       "      <td>3</td>\n",
       "      <td>11</td>\n",
       "      <td>Returning_Visitor</td>\n",
       "      <td>False</td>\n",
       "      <td>False</td>\n",
       "    </tr>\n",
       "    <tr>\n",
       "      <th>12329</th>\n",
       "      <td>0</td>\n",
       "      <td>0.0</td>\n",
       "      <td>0</td>\n",
       "      <td>0.0</td>\n",
       "      <td>3</td>\n",
       "      <td>21.250000</td>\n",
       "      <td>0.000000</td>\n",
       "      <td>0.066667</td>\n",
       "      <td>0.000000</td>\n",
       "      <td>0.0</td>\n",
       "      <td>Nov</td>\n",
       "      <td>3</td>\n",
       "      <td>2</td>\n",
       "      <td>1</td>\n",
       "      <td>2</td>\n",
       "      <td>New_Visitor</td>\n",
       "      <td>True</td>\n",
       "      <td>False</td>\n",
       "    </tr>\n",
       "  </tbody>\n",
       "</table>\n",
       "<p>12330 rows × 18 columns</p>\n",
       "</div>"
      ],
      "text/plain": [
       "       Administrative  Administrative_Duration  Informational  \\\n",
       "0                   0                      0.0              0   \n",
       "1                   0                      0.0              0   \n",
       "2                   0                      0.0              0   \n",
       "3                   0                      0.0              0   \n",
       "4                   0                      0.0              0   \n",
       "...               ...                      ...            ...   \n",
       "12325               3                    145.0              0   \n",
       "12326               0                      0.0              0   \n",
       "12327               0                      0.0              0   \n",
       "12328               4                     75.0              0   \n",
       "12329               0                      0.0              0   \n",
       "\n",
       "       Informational_Duration  ProductRelated  ProductRelated_Duration  \\\n",
       "0                         0.0               1                 0.000000   \n",
       "1                         0.0               2                64.000000   \n",
       "2                         0.0               1                 0.000000   \n",
       "3                         0.0               2                 2.666667   \n",
       "4                         0.0              10               627.500000   \n",
       "...                       ...             ...                      ...   \n",
       "12325                     0.0              53              1783.791667   \n",
       "12326                     0.0               5               465.750000   \n",
       "12327                     0.0               6               184.250000   \n",
       "12328                     0.0              15               346.000000   \n",
       "12329                     0.0               3                21.250000   \n",
       "\n",
       "       BounceRates  ExitRates  PageValues  SpecialDay Month  OperatingSystems  \\\n",
       "0         0.200000   0.200000    0.000000         0.0   Feb                 1   \n",
       "1         0.000000   0.100000    0.000000         0.0   Feb                 2   \n",
       "2         0.200000   0.200000    0.000000         0.0   Feb                 4   \n",
       "3         0.050000   0.140000    0.000000         0.0   Feb                 3   \n",
       "4         0.020000   0.050000    0.000000         0.0   Feb                 3   \n",
       "...            ...        ...         ...         ...   ...               ...   \n",
       "12325     0.007143   0.029031   12.241717         0.0   Dec                 4   \n",
       "12326     0.000000   0.021333    0.000000         0.0   Nov                 3   \n",
       "12327     0.083333   0.086667    0.000000         0.0   Nov                 3   \n",
       "12328     0.000000   0.021053    0.000000         0.0   Nov                 2   \n",
       "12329     0.000000   0.066667    0.000000         0.0   Nov                 3   \n",
       "\n",
       "       Browser  Region  TrafficType        VisitorType  Weekend  Revenue  \n",
       "0            1       1            1  Returning_Visitor    False    False  \n",
       "1            2       1            2  Returning_Visitor    False    False  \n",
       "2            1       9            3  Returning_Visitor    False    False  \n",
       "3            2       2            4  Returning_Visitor    False    False  \n",
       "4            3       1            4  Returning_Visitor     True    False  \n",
       "...        ...     ...          ...                ...      ...      ...  \n",
       "12325        6       1            1  Returning_Visitor     True    False  \n",
       "12326        2       1            8  Returning_Visitor     True    False  \n",
       "12327        2       1           13  Returning_Visitor     True    False  \n",
       "12328        2       3           11  Returning_Visitor    False    False  \n",
       "12329        2       1            2        New_Visitor     True    False  \n",
       "\n",
       "[12330 rows x 18 columns]"
      ]
     },
     "execution_count": 4,
     "metadata": {},
     "output_type": "execute_result"
    }
   ],
   "source": [
    "df"
   ]
  },
  {
   "cell_type": "code",
   "execution_count": 5,
   "metadata": {},
   "outputs": [
    {
     "name": "stdout",
     "output_type": "stream",
     "text": [
      "<class 'pandas.core.frame.DataFrame'>\n",
      "RangeIndex: 12330 entries, 0 to 12329\n",
      "Data columns (total 18 columns):\n",
      " #   Column                   Non-Null Count  Dtype  \n",
      "---  ------                   --------------  -----  \n",
      " 0   Administrative           12330 non-null  int64  \n",
      " 1   Administrative_Duration  12330 non-null  float64\n",
      " 2   Informational            12330 non-null  int64  \n",
      " 3   Informational_Duration   12330 non-null  float64\n",
      " 4   ProductRelated           12330 non-null  int64  \n",
      " 5   ProductRelated_Duration  12330 non-null  float64\n",
      " 6   BounceRates              12330 non-null  float64\n",
      " 7   ExitRates                12330 non-null  float64\n",
      " 8   PageValues               12330 non-null  float64\n",
      " 9   SpecialDay               12330 non-null  float64\n",
      " 10  Month                    12330 non-null  object \n",
      " 11  OperatingSystems         12330 non-null  int64  \n",
      " 12  Browser                  12330 non-null  int64  \n",
      " 13  Region                   12330 non-null  int64  \n",
      " 14  TrafficType              12330 non-null  int64  \n",
      " 15  VisitorType              12330 non-null  object \n",
      " 16  Weekend                  12330 non-null  bool   \n",
      " 17  Revenue                  12330 non-null  bool   \n",
      "dtypes: bool(2), float64(7), int64(7), object(2)\n",
      "memory usage: 1.5+ MB\n"
     ]
    }
   ],
   "source": [
    "df.info()"
   ]
  },
  {
   "cell_type": "markdown",
   "metadata": {},
   "source": [
    "## Encoding Categorical Features"
   ]
  },
  {
   "cell_type": "markdown",
   "metadata": {},
   "source": [
    "* Categorical Variables Month, Weekend and Revenue are encoded using **Label Encoding**\n",
    "* Another categorical variable Visitor type is encoded using **One-Hot Encoding**"
   ]
  },
  {
   "cell_type": "code",
   "execution_count": 6,
   "metadata": {},
   "outputs": [],
   "source": [
    "label_encoder = LabelEncoder()\n",
    "df['Month_cat'] = label_encoder.fit_transform(df['Month']).astype('float64')"
   ]
  },
  {
   "cell_type": "code",
   "execution_count": 7,
   "metadata": {},
   "outputs": [],
   "source": [
    "df.drop('Month',axis=1,inplace=True)"
   ]
  },
  {
   "cell_type": "code",
   "execution_count": 8,
   "metadata": {},
   "outputs": [
    {
     "data": {
      "text/plain": [
       "6.0    3364\n",
       "7.0    2998\n",
       "5.0    1907\n",
       "1.0    1727\n",
       "8.0     549\n",
       "9.0     448\n",
       "0.0     433\n",
       "3.0     432\n",
       "4.0     288\n",
       "2.0     184\n",
       "Name: Month_cat, dtype: int64"
      ]
     },
     "execution_count": 8,
     "metadata": {},
     "output_type": "execute_result"
    }
   ],
   "source": [
    "df['Month_cat'].value_counts()"
   ]
  },
  {
   "cell_type": "code",
   "execution_count": 9,
   "metadata": {},
   "outputs": [
    {
     "data": {
      "text/plain": [
       "Returning_Visitor    10551\n",
       "New_Visitor           1694\n",
       "Other                   85\n",
       "Name: VisitorType, dtype: int64"
      ]
     },
     "execution_count": 9,
     "metadata": {},
     "output_type": "execute_result"
    }
   ],
   "source": [
    "df.VisitorType.value_counts()"
   ]
  },
  {
   "cell_type": "code",
   "execution_count": 10,
   "metadata": {},
   "outputs": [],
   "source": [
    "df['Weekend']=label_encoder.fit_transform(df['Weekend']).astype('float64')\n",
    "df['Revenue']=label_encoder.fit_transform(df['Revenue']).astype('float64')"
   ]
  },
  {
   "cell_type": "code",
   "execution_count": 11,
   "metadata": {},
   "outputs": [
    {
     "data": {
      "text/html": [
       "<div>\n",
       "<style scoped>\n",
       "    .dataframe tbody tr th:only-of-type {\n",
       "        vertical-align: middle;\n",
       "    }\n",
       "\n",
       "    .dataframe tbody tr th {\n",
       "        vertical-align: top;\n",
       "    }\n",
       "\n",
       "    .dataframe thead th {\n",
       "        text-align: right;\n",
       "    }\n",
       "</style>\n",
       "<table border=\"1\" class=\"dataframe\">\n",
       "  <thead>\n",
       "    <tr style=\"text-align: right;\">\n",
       "      <th></th>\n",
       "      <th>0</th>\n",
       "      <th>1</th>\n",
       "      <th>2</th>\n",
       "      <th>3</th>\n",
       "      <th>4</th>\n",
       "    </tr>\n",
       "  </thead>\n",
       "  <tbody>\n",
       "    <tr>\n",
       "      <th>Administrative</th>\n",
       "      <td>0.0</td>\n",
       "      <td>0.0</td>\n",
       "      <td>0.0</td>\n",
       "      <td>0.000000</td>\n",
       "      <td>0.00</td>\n",
       "    </tr>\n",
       "    <tr>\n",
       "      <th>Administrative_Duration</th>\n",
       "      <td>0.0</td>\n",
       "      <td>0.0</td>\n",
       "      <td>0.0</td>\n",
       "      <td>0.000000</td>\n",
       "      <td>0.00</td>\n",
       "    </tr>\n",
       "    <tr>\n",
       "      <th>Informational</th>\n",
       "      <td>0.0</td>\n",
       "      <td>0.0</td>\n",
       "      <td>0.0</td>\n",
       "      <td>0.000000</td>\n",
       "      <td>0.00</td>\n",
       "    </tr>\n",
       "    <tr>\n",
       "      <th>Informational_Duration</th>\n",
       "      <td>0.0</td>\n",
       "      <td>0.0</td>\n",
       "      <td>0.0</td>\n",
       "      <td>0.000000</td>\n",
       "      <td>0.00</td>\n",
       "    </tr>\n",
       "    <tr>\n",
       "      <th>ProductRelated</th>\n",
       "      <td>1.0</td>\n",
       "      <td>2.0</td>\n",
       "      <td>1.0</td>\n",
       "      <td>2.000000</td>\n",
       "      <td>10.00</td>\n",
       "    </tr>\n",
       "    <tr>\n",
       "      <th>ProductRelated_Duration</th>\n",
       "      <td>0.0</td>\n",
       "      <td>64.0</td>\n",
       "      <td>0.0</td>\n",
       "      <td>2.666667</td>\n",
       "      <td>627.50</td>\n",
       "    </tr>\n",
       "    <tr>\n",
       "      <th>BounceRates</th>\n",
       "      <td>0.2</td>\n",
       "      <td>0.0</td>\n",
       "      <td>0.2</td>\n",
       "      <td>0.050000</td>\n",
       "      <td>0.02</td>\n",
       "    </tr>\n",
       "    <tr>\n",
       "      <th>ExitRates</th>\n",
       "      <td>0.2</td>\n",
       "      <td>0.1</td>\n",
       "      <td>0.2</td>\n",
       "      <td>0.140000</td>\n",
       "      <td>0.05</td>\n",
       "    </tr>\n",
       "    <tr>\n",
       "      <th>PageValues</th>\n",
       "      <td>0.0</td>\n",
       "      <td>0.0</td>\n",
       "      <td>0.0</td>\n",
       "      <td>0.000000</td>\n",
       "      <td>0.00</td>\n",
       "    </tr>\n",
       "    <tr>\n",
       "      <th>SpecialDay</th>\n",
       "      <td>0.0</td>\n",
       "      <td>0.0</td>\n",
       "      <td>0.0</td>\n",
       "      <td>0.000000</td>\n",
       "      <td>0.00</td>\n",
       "    </tr>\n",
       "    <tr>\n",
       "      <th>OperatingSystems</th>\n",
       "      <td>1.0</td>\n",
       "      <td>2.0</td>\n",
       "      <td>4.0</td>\n",
       "      <td>3.000000</td>\n",
       "      <td>3.00</td>\n",
       "    </tr>\n",
       "    <tr>\n",
       "      <th>Browser</th>\n",
       "      <td>1.0</td>\n",
       "      <td>2.0</td>\n",
       "      <td>1.0</td>\n",
       "      <td>2.000000</td>\n",
       "      <td>3.00</td>\n",
       "    </tr>\n",
       "    <tr>\n",
       "      <th>Region</th>\n",
       "      <td>1.0</td>\n",
       "      <td>1.0</td>\n",
       "      <td>9.0</td>\n",
       "      <td>2.000000</td>\n",
       "      <td>1.00</td>\n",
       "    </tr>\n",
       "    <tr>\n",
       "      <th>TrafficType</th>\n",
       "      <td>1.0</td>\n",
       "      <td>2.0</td>\n",
       "      <td>3.0</td>\n",
       "      <td>4.000000</td>\n",
       "      <td>4.00</td>\n",
       "    </tr>\n",
       "    <tr>\n",
       "      <th>Weekend</th>\n",
       "      <td>0.0</td>\n",
       "      <td>0.0</td>\n",
       "      <td>0.0</td>\n",
       "      <td>0.000000</td>\n",
       "      <td>1.00</td>\n",
       "    </tr>\n",
       "    <tr>\n",
       "      <th>Revenue</th>\n",
       "      <td>0.0</td>\n",
       "      <td>0.0</td>\n",
       "      <td>0.0</td>\n",
       "      <td>0.000000</td>\n",
       "      <td>0.00</td>\n",
       "    </tr>\n",
       "    <tr>\n",
       "      <th>Month_cat</th>\n",
       "      <td>2.0</td>\n",
       "      <td>2.0</td>\n",
       "      <td>2.0</td>\n",
       "      <td>2.000000</td>\n",
       "      <td>2.00</td>\n",
       "    </tr>\n",
       "    <tr>\n",
       "      <th>VisitorType_New_Visitor</th>\n",
       "      <td>0.0</td>\n",
       "      <td>0.0</td>\n",
       "      <td>0.0</td>\n",
       "      <td>0.000000</td>\n",
       "      <td>0.00</td>\n",
       "    </tr>\n",
       "    <tr>\n",
       "      <th>VisitorType_Other</th>\n",
       "      <td>0.0</td>\n",
       "      <td>0.0</td>\n",
       "      <td>0.0</td>\n",
       "      <td>0.000000</td>\n",
       "      <td>0.00</td>\n",
       "    </tr>\n",
       "    <tr>\n",
       "      <th>VisitorType_Returning_Visitor</th>\n",
       "      <td>1.0</td>\n",
       "      <td>1.0</td>\n",
       "      <td>1.0</td>\n",
       "      <td>1.000000</td>\n",
       "      <td>1.00</td>\n",
       "    </tr>\n",
       "  </tbody>\n",
       "</table>\n",
       "</div>"
      ],
      "text/plain": [
       "                                 0     1    2         3       4\n",
       "Administrative                 0.0   0.0  0.0  0.000000    0.00\n",
       "Administrative_Duration        0.0   0.0  0.0  0.000000    0.00\n",
       "Informational                  0.0   0.0  0.0  0.000000    0.00\n",
       "Informational_Duration         0.0   0.0  0.0  0.000000    0.00\n",
       "ProductRelated                 1.0   2.0  1.0  2.000000   10.00\n",
       "ProductRelated_Duration        0.0  64.0  0.0  2.666667  627.50\n",
       "BounceRates                    0.2   0.0  0.2  0.050000    0.02\n",
       "ExitRates                      0.2   0.1  0.2  0.140000    0.05\n",
       "PageValues                     0.0   0.0  0.0  0.000000    0.00\n",
       "SpecialDay                     0.0   0.0  0.0  0.000000    0.00\n",
       "OperatingSystems               1.0   2.0  4.0  3.000000    3.00\n",
       "Browser                        1.0   2.0  1.0  2.000000    3.00\n",
       "Region                         1.0   1.0  9.0  2.000000    1.00\n",
       "TrafficType                    1.0   2.0  3.0  4.000000    4.00\n",
       "Weekend                        0.0   0.0  0.0  0.000000    1.00\n",
       "Revenue                        0.0   0.0  0.0  0.000000    0.00\n",
       "Month_cat                      2.0   2.0  2.0  2.000000    2.00\n",
       "VisitorType_New_Visitor        0.0   0.0  0.0  0.000000    0.00\n",
       "VisitorType_Other              0.0   0.0  0.0  0.000000    0.00\n",
       "VisitorType_Returning_Visitor  1.0   1.0  1.0  1.000000    1.00"
      ]
     },
     "execution_count": 11,
     "metadata": {},
     "output_type": "execute_result"
    }
   ],
   "source": [
    "visi=pd.get_dummies(df, 'VisitorType')\n",
    "visi.head().T"
   ]
  },
  {
   "cell_type": "code",
   "execution_count": 12,
   "metadata": {},
   "outputs": [],
   "source": [
    "df=visi"
   ]
  },
  {
   "cell_type": "code",
   "execution_count": 13,
   "metadata": {},
   "outputs": [
    {
     "data": {
      "text/plain": [
       "<matplotlib.axes._subplots.AxesSubplot at 0x2640ed5c048>"
      ]
     },
     "execution_count": 13,
     "metadata": {},
     "output_type": "execute_result"
    },
    {
     "data": {
      "image/png": "[encoded data removed]",
      "text/plain": [
       "<Figure size 432x288 with 1 Axes>"
      ]
     },
     "metadata": {
      "needs_background": "light"
     },
     "output_type": "display_data"
    }
   ],
   "source": [
    "sns.countplot(x='Revenue',data=df)"
   ]
  },
  {
   "cell_type": "code",
   "execution_count": 14,
   "metadata": {},
   "outputs": [
    {
     "name": "stdout",
     "output_type": "stream",
     "text": [
      "<class 'pandas.core.frame.DataFrame'>\n",
      "RangeIndex: 12330 entries, 0 to 12329\n",
      "Data columns (total 20 columns):\n",
      " #   Column                         Non-Null Count  Dtype  \n",
      "---  ------                         --------------  -----  \n",
      " 0   Administrative                 12330 non-null  int64  \n",
      " 1   Administrative_Duration        12330 non-null  float64\n",
      " 2   Informational                  12330 non-null  int64  \n",
      " 3   Informational_Duration         12330 non-null  float64\n",
      " 4   ProductRelated                 12330 non-null  int64  \n",
      " 5   ProductRelated_Duration        12330 non-null  float64\n",
      " 6   BounceRates                    12330 non-null  float64\n",
      " 7   ExitRates                      12330 non-null  float64\n",
      " 8   PageValues                     12330 non-null  float64\n",
      " 9   SpecialDay                     12330 non-null  float64\n",
      " 10  OperatingSystems               12330 non-null  int64  \n",
      " 11  Browser                        12330 non-null  int64  \n",
      " 12  Region                         12330 non-null  int64  \n",
      " 13  TrafficType                    12330 non-null  int64  \n",
      " 14  Weekend                        12330 non-null  float64\n",
      " 15  Revenue                        12330 non-null  float64\n",
      " 16  Month_cat                      12330 non-null  float64\n",
      " 17  VisitorType_New_Visitor        12330 non-null  uint8  \n",
      " 18  VisitorType_Other              12330 non-null  uint8  \n",
      " 19  VisitorType_Returning_Visitor  12330 non-null  uint8  \n",
      "dtypes: float64(10), int64(7), uint8(3)\n",
      "memory usage: 1.6 MB\n"
     ]
    }
   ],
   "source": [
    "df.info()"
   ]
  },
  {
   "cell_type": "markdown",
   "metadata": {},
   "source": [
    "## Feature Selection"
   ]
  },
  {
   "cell_type": "markdown",
   "metadata": {},
   "source": [
    "* Removing correlated and insignificant features from the data set\n",
    "* Using **Backward Elimination** feature selection method for removing insignificant features"
   ]
  },
  {
   "cell_type": "code",
   "execution_count": 15,
   "metadata": {},
   "outputs": [
    {
     "data": {
      "text/html": [
       "<div>\n",
       "<style scoped>\n",
       "    .dataframe tbody tr th:only-of-type {\n",
       "        vertical-align: middle;\n",
       "    }\n",
       "\n",
       "    .dataframe tbody tr th {\n",
       "        vertical-align: top;\n",
       "    }\n",
       "\n",
       "    .dataframe thead th {\n",
       "        text-align: right;\n",
       "    }\n",
       "</style>\n",
       "<table border=\"1\" class=\"dataframe\">\n",
       "  <thead>\n",
       "    <tr style=\"text-align: right;\">\n",
       "      <th></th>\n",
       "      <th>Administrative</th>\n",
       "      <th>Administrative_Duration</th>\n",
       "      <th>Informational</th>\n",
       "      <th>Informational_Duration</th>\n",
       "      <th>ProductRelated</th>\n",
       "    </tr>\n",
       "  </thead>\n",
       "  <tbody>\n",
       "    <tr>\n",
       "      <th>Administrative</th>\n",
       "      <td>1.000000</td>\n",
       "      <td>0.601583</td>\n",
       "      <td>0.376850</td>\n",
       "      <td>0.255848</td>\n",
       "      <td>0.431119</td>\n",
       "    </tr>\n",
       "    <tr>\n",
       "      <th>Administrative_Duration</th>\n",
       "      <td>0.601583</td>\n",
       "      <td>1.000000</td>\n",
       "      <td>0.302710</td>\n",
       "      <td>0.238031</td>\n",
       "      <td>0.289087</td>\n",
       "    </tr>\n",
       "    <tr>\n",
       "      <th>Informational</th>\n",
       "      <td>0.376850</td>\n",
       "      <td>0.302710</td>\n",
       "      <td>1.000000</td>\n",
       "      <td>0.618955</td>\n",
       "      <td>0.374164</td>\n",
       "    </tr>\n",
       "    <tr>\n",
       "      <th>Informational_Duration</th>\n",
       "      <td>0.255848</td>\n",
       "      <td>0.238031</td>\n",
       "      <td>0.618955</td>\n",
       "      <td>1.000000</td>\n",
       "      <td>0.280046</td>\n",
       "    </tr>\n",
       "    <tr>\n",
       "      <th>ProductRelated</th>\n",
       "      <td>0.431119</td>\n",
       "      <td>0.289087</td>\n",
       "      <td>0.374164</td>\n",
       "      <td>0.280046</td>\n",
       "      <td>1.000000</td>\n",
       "    </tr>\n",
       "    <tr>\n",
       "      <th>ProductRelated_Duration</th>\n",
       "      <td>0.373939</td>\n",
       "      <td>0.355422</td>\n",
       "      <td>0.387505</td>\n",
       "      <td>0.347364</td>\n",
       "      <td>0.860927</td>\n",
       "    </tr>\n",
       "    <tr>\n",
       "      <th>BounceRates</th>\n",
       "      <td>-0.223563</td>\n",
       "      <td>-0.144170</td>\n",
       "      <td>-0.116114</td>\n",
       "      <td>-0.074067</td>\n",
       "      <td>-0.204578</td>\n",
       "    </tr>\n",
       "    <tr>\n",
       "      <th>ExitRates</th>\n",
       "      <td>-0.316483</td>\n",
       "      <td>-0.205798</td>\n",
       "      <td>-0.163666</td>\n",
       "      <td>-0.105276</td>\n",
       "      <td>-0.292526</td>\n",
       "    </tr>\n",
       "    <tr>\n",
       "      <th>PageValues</th>\n",
       "      <td>0.098990</td>\n",
       "      <td>0.067608</td>\n",
       "      <td>0.048632</td>\n",
       "      <td>0.030861</td>\n",
       "      <td>0.056282</td>\n",
       "    </tr>\n",
       "    <tr>\n",
       "      <th>SpecialDay</th>\n",
       "      <td>-0.094778</td>\n",
       "      <td>-0.073304</td>\n",
       "      <td>-0.048219</td>\n",
       "      <td>-0.030577</td>\n",
       "      <td>-0.023958</td>\n",
       "    </tr>\n",
       "    <tr>\n",
       "      <th>OperatingSystems</th>\n",
       "      <td>-0.006347</td>\n",
       "      <td>-0.007343</td>\n",
       "      <td>-0.009527</td>\n",
       "      <td>-0.009579</td>\n",
       "      <td>0.004290</td>\n",
       "    </tr>\n",
       "    <tr>\n",
       "      <th>Browser</th>\n",
       "      <td>-0.025035</td>\n",
       "      <td>-0.015392</td>\n",
       "      <td>-0.038235</td>\n",
       "      <td>-0.019285</td>\n",
       "      <td>-0.013146</td>\n",
       "    </tr>\n",
       "    <tr>\n",
       "      <th>Region</th>\n",
       "      <td>-0.005487</td>\n",
       "      <td>-0.005561</td>\n",
       "      <td>-0.029169</td>\n",
       "      <td>-0.027144</td>\n",
       "      <td>-0.038122</td>\n",
       "    </tr>\n",
       "    <tr>\n",
       "      <th>TrafficType</th>\n",
       "      <td>-0.033561</td>\n",
       "      <td>-0.014376</td>\n",
       "      <td>-0.034491</td>\n",
       "      <td>-0.024675</td>\n",
       "      <td>-0.043064</td>\n",
       "    </tr>\n",
       "    <tr>\n",
       "      <th>Weekend</th>\n",
       "      <td>0.026417</td>\n",
       "      <td>0.014990</td>\n",
       "      <td>0.035785</td>\n",
       "      <td>0.024078</td>\n",
       "      <td>0.016092</td>\n",
       "    </tr>\n",
       "    <tr>\n",
       "      <th>Revenue</th>\n",
       "      <td>0.138917</td>\n",
       "      <td>0.093587</td>\n",
       "      <td>0.095200</td>\n",
       "      <td>0.070345</td>\n",
       "      <td>0.158538</td>\n",
       "    </tr>\n",
       "    <tr>\n",
       "      <th>Month_cat</th>\n",
       "      <td>0.048560</td>\n",
       "      <td>0.029061</td>\n",
       "      <td>0.019743</td>\n",
       "      <td>0.005987</td>\n",
       "      <td>0.070299</td>\n",
       "    </tr>\n",
       "    <tr>\n",
       "      <th>VisitorType_New_Visitor</th>\n",
       "      <td>0.028449</td>\n",
       "      <td>0.025043</td>\n",
       "      <td>-0.053429</td>\n",
       "      <td>-0.043200</td>\n",
       "      <td>-0.122727</td>\n",
       "    </tr>\n",
       "    <tr>\n",
       "      <th>VisitorType_Other</th>\n",
       "      <td>-0.021184</td>\n",
       "      <td>-0.008542</td>\n",
       "      <td>-0.021457</td>\n",
       "      <td>-0.013489</td>\n",
       "      <td>-0.036083</td>\n",
       "    </tr>\n",
       "    <tr>\n",
       "      <th>VisitorType_Returning_Visitor</th>\n",
       "      <td>-0.022884</td>\n",
       "      <td>-0.022525</td>\n",
       "      <td>0.057399</td>\n",
       "      <td>0.045501</td>\n",
       "      <td>0.128738</td>\n",
       "    </tr>\n",
       "  </tbody>\n",
       "</table>\n",
       "</div>"
      ],
      "text/plain": [
       "                               Administrative  Administrative_Duration  \\\n",
       "Administrative                       1.000000                 0.601583   \n",
       "Administrative_Duration              0.601583                 1.000000   \n",
       "Informational                        0.376850                 0.302710   \n",
       "Informational_Duration               0.255848                 0.238031   \n",
       "ProductRelated                       0.431119                 0.289087   \n",
       "ProductRelated_Duration              0.373939                 0.355422   \n",
       "BounceRates                         -0.223563                -0.144170   \n",
       "ExitRates                           -0.316483                -0.205798   \n",
       "PageValues                           0.098990                 0.067608   \n",
       "SpecialDay                          -0.094778                -0.073304   \n",
       "OperatingSystems                    -0.006347                -0.007343   \n",
       "Browser                             -0.025035                -0.015392   \n",
       "Region                              -0.005487                -0.005561   \n",
       "TrafficType                         -0.033561                -0.014376   \n",
       "Weekend                              0.026417                 0.014990   \n",
       "Revenue                              0.138917                 0.093587   \n",
       "Month_cat                            0.048560                 0.029061   \n",
       "VisitorType_New_Visitor              0.028449                 0.025043   \n",
       "VisitorType_Other                   -0.021184                -0.008542   \n",
       "VisitorType_Returning_Visitor       -0.022884                -0.022525   \n",
       "\n",
       "                               Informational  Informational_Duration  \\\n",
       "Administrative                      0.376850                0.255848   \n",
       "Administrative_Duration             0.302710                0.238031   \n",
       "Informational                       1.000000                0.618955   \n",
       "Informational_Duration              0.618955                1.000000   \n",
       "ProductRelated                      0.374164                0.280046   \n",
       "ProductRelated_Duration             0.387505                0.347364   \n",
       "BounceRates                        -0.116114               -0.074067   \n",
       "ExitRates                          -0.163666               -0.105276   \n",
       "PageValues                          0.048632                0.030861   \n",
       "SpecialDay                         -0.048219               -0.030577   \n",
       "OperatingSystems                   -0.009527               -0.009579   \n",
       "Browser                            -0.038235               -0.019285   \n",
       "Region                             -0.029169               -0.027144   \n",
       "TrafficType                        -0.034491               -0.024675   \n",
       "Weekend                             0.035785                0.024078   \n",
       "Revenue                             0.095200                0.070345   \n",
       "Month_cat                           0.019743                0.005987   \n",
       "VisitorType_New_Visitor            -0.053429               -0.043200   \n",
       "VisitorType_Other                  -0.021457               -0.013489   \n",
       "VisitorType_Returning_Visitor       0.057399                0.045501   \n",
       "\n",
       "                               ProductRelated  \n",
       "Administrative                       0.431119  \n",
       "Administrative_Duration              0.289087  \n",
       "Informational                        0.374164  \n",
       "Informational_Duration               0.280046  \n",
       "ProductRelated                       1.000000  \n",
       "ProductRelated_Duration              0.860927  \n",
       "BounceRates                         -0.204578  \n",
       "ExitRates                           -0.292526  \n",
       "PageValues                           0.056282  \n",
       "SpecialDay                          -0.023958  \n",
       "OperatingSystems                     0.004290  \n",
       "Browser                             -0.013146  \n",
       "Region                              -0.038122  \n",
       "TrafficType                         -0.043064  \n",
       "Weekend                              0.016092  \n",
       "Revenue                              0.158538  \n",
       "Month_cat                            0.070299  \n",
       "VisitorType_New_Visitor             -0.122727  \n",
       "VisitorType_Other                   -0.036083  \n",
       "VisitorType_Returning_Visitor        0.128738  "
      ]
     },
     "execution_count": 15,
     "metadata": {},
     "output_type": "execute_result"
    }
   ],
   "source": [
    "corr=df.corr()\n",
    "corr.head().T"
   ]
  },
  {
   "cell_type": "code",
   "execution_count": 16,
   "metadata": {},
   "outputs": [
    {
     "data": {
      "text/plain": [
       "<matplotlib.axes._subplots.AxesSubplot at 0x2640f4d4848>"
      ]
     },
     "execution_count": 16,
     "metadata": {},
     "output_type": "execute_result"
    },
    {
     "data": {
      "image/png": "[encoded data removed]",
      "text/plain": [
       "<Figure size 432x288 with 2 Axes>"
      ]
     },
     "metadata": {
      "needs_background": "light"
     },
     "output_type": "display_data"
    }
   ],
   "source": [
    "sns.heatmap(df.corr())"
   ]
  },
  {
   "cell_type": "code",
   "execution_count": 17,
   "metadata": {},
   "outputs": [],
   "source": [
    "columns = np.full((corr.shape[0],), True, dtype=bool)\n",
    "for i in range(corr.shape[0]):\n",
    "    for j in range(i+1, corr.shape[0]):\n",
    "        if corr.iloc[i,j] >= 0.7:\n",
    "            if columns[j]:\n",
    "                columns[j] = False"
   ]
  },
  {
   "cell_type": "code",
   "execution_count": 18,
   "metadata": {},
   "outputs": [
    {
     "data": {
      "text/plain": [
       "(18,)"
      ]
     },
     "execution_count": 18,
     "metadata": {},
     "output_type": "execute_result"
    }
   ],
   "source": [
    "sel_cols=df.columns[columns]\n",
    "sel_cols.shape"
   ]
  },
  {
   "cell_type": "code",
   "execution_count": 19,
   "metadata": {},
   "outputs": [],
   "source": [
    "df=df[sel_cols]"
   ]
  },
  {
   "cell_type": "code",
   "execution_count": 20,
   "metadata": {},
   "outputs": [
    {
     "data": {
      "text/plain": [
       "'Revenue'"
      ]
     },
     "execution_count": 20,
     "metadata": {},
     "output_type": "execute_result"
    }
   ],
   "source": [
    "feats=list(df.columns)\n",
    "feats.pop(13)"
   ]
  },
  {
   "cell_type": "code",
   "execution_count": 21,
   "metadata": {},
   "outputs": [],
   "source": [
    "df_=df.drop('Revenue',axis=1)"
   ]
  },
  {
   "cell_type": "code",
   "execution_count": 22,
   "metadata": {},
   "outputs": [],
   "source": [
    "import statsmodels.api as sm"
   ]
  },
  {
   "cell_type": "code",
   "execution_count": 23,
   "metadata": {},
   "outputs": [],
   "source": [
    "selected_columns = feats\n",
    "def backwardElimination(x, Y, sl, columns):\n",
    "    numVars = len(x[0])\n",
    "    for i in range(0, numVars):\n",
    "        regressor_OLS = sm.OLS(Y, x).fit()\n",
    "        maxVar = max(regressor_OLS.pvalues)\n",
    "        if maxVar > sl:\n",
    "            for j in range(0, numVars - i):\n",
    "                if (regressor_OLS.pvalues[j] == maxVar):\n",
    "                    x = np.delete(x, j, 1)\n",
    "                    columns = np.delete(columns, j)\n",
    "                   \n",
    "                    \n",
    "    regressor_OLS.summary()\n",
    "    return x, columns\n",
    "SL = 0.05\n",
    "data_modeled, selected_columns = backwardElimination(df_.iloc[:,:].values, df['Revenue'], SL, selected_columns)"
   ]
  },
  {
   "cell_type": "code",
   "execution_count": 24,
   "metadata": {},
   "outputs": [],
   "source": [
    "res=pd.DataFrame()"
   ]
  },
  {
   "cell_type": "code",
   "execution_count": 25,
   "metadata": {},
   "outputs": [],
   "source": [
    "res['Revenue']=df['Revenue'].copy()"
   ]
  },
  {
   "cell_type": "code",
   "execution_count": 26,
   "metadata": {},
   "outputs": [],
   "source": [
    "df = pd.DataFrame(data = data_modeled, columns = selected_columns)"
   ]
  },
  {
   "cell_type": "markdown",
   "metadata": {},
   "source": [
    "## Splitting into training and testing data"
   ]
  },
  {
   "cell_type": "markdown",
   "metadata": {},
   "source": [
    "* Here we are splitting our data into 70% as training and 30% as testing data"
   ]
  },
  {
   "cell_type": "code",
   "execution_count": 27,
   "metadata": {},
   "outputs": [],
   "source": [
    "from sklearn.model_selection import train_test_split"
   ]
  },
  {
   "cell_type": "code",
   "execution_count": 28,
   "metadata": {},
   "outputs": [],
   "source": [
    "X_train,X_test,Y_train,Y_test=train_test_split(df.values,res.values,test_size=0.3,random_state=42)"
   ]
  },
  {
   "cell_type": "markdown",
   "metadata": {},
   "source": [
    "* To avoid the dominance of features having higher numeric ranges over features with small numeric ranges, we scale all the features to the same range(mostly 0-1)\n",
    "* We are using StandardScaler class for scaling the features"
   ]
  },
  {
   "cell_type": "code",
   "execution_count": 29,
   "metadata": {},
   "outputs": [],
   "source": [
    "from sklearn.preprocessing import StandardScaler\n",
    "from sklearn import preprocessing\n",
    "scaler=StandardScaler()\n",
    "scaler.fit(X_train)\n",
    "X_scaled=scaler.transform(X_train)\n",
    "X_test=preprocessing.scale(X_test)"
   ]
  },
  {
   "cell_type": "markdown",
   "metadata": {},
   "source": [
    "## Developing the model"
   ]
  },
  {
   "cell_type": "markdown",
   "metadata": {},
   "source": [
    "* To build the propensity model, here we are using Logistic regression model.\n",
    "* Before actually building the model, let's check the significance of the features and still if there are insignificant features we will proceed with building the model only after removing them.\n",
    "* To check the significance, here we are using the p-value as threshold, considering features with p-value>0.05 as insignificant"
   ]
  },
  {
   "cell_type": "code",
   "execution_count": 30,
   "metadata": {
    "scrolled": true
   },
   "outputs": [
    {
     "name": "stdout",
     "output_type": "stream",
     "text": [
      "Optimization terminated successfully.\n",
      "         Current function value: 0.528913\n",
      "         Iterations 7\n"
     ]
    }
   ],
   "source": [
    "log=sm.Logit(Y_train.ravel(),X_scaled).fit()"
   ]
  },
  {
   "cell_type": "code",
   "execution_count": 31,
   "metadata": {},
   "outputs": [
    {
     "name": "stdout",
     "output_type": "stream",
     "text": [
      "                           Logit Regression Results                           \n",
      "==============================================================================\n",
      "Dep. Variable:                      y   No. Observations:                 8631\n",
      "Model:                          Logit   Df Residuals:                     8622\n",
      "Method:                           MLE   Df Model:                            8\n",
      "Date:                Mon, 03 May 2021   Pseudo R-squ.:                 -0.2291\n",
      "Time:                        13:42:05   Log-Likelihood:                -4565.1\n",
      "converged:                       True   LL-Null:                       -3714.3\n",
      "Covariance Type:            nonrobust   LLR p-value:                     1.000\n",
      "==============================================================================\n",
      "                 coef    std err          z      P>|z|      [0.025      0.975]\n",
      "------------------------------------------------------------------------------\n",
      "x1            -0.1402      0.031     -4.541      0.000      -0.201      -0.080\n",
      "x2             0.0143      0.028      0.508      0.611      -0.041       0.070\n",
      "x3             0.1678      0.028      5.919      0.000       0.112       0.223\n",
      "x4            -0.0540      0.027     -1.993      0.046      -0.107      -0.001\n",
      "x5             3.1693      0.081     39.164      0.000       3.011       3.328\n",
      "x6            -0.0728      0.026     -2.777      0.005      -0.124      -0.021\n",
      "x7             0.1212      0.026      4.626      0.000       0.070       0.172\n",
      "x8             0.0711      0.112      0.636      0.525      -0.148       0.290\n",
      "x9            -0.0694      0.112     -0.620      0.536      -0.289       0.150\n",
      "==============================================================================\n"
     ]
    }
   ],
   "source": [
    "print(log.summary())"
   ]
  },
  {
   "cell_type": "code",
   "execution_count": 32,
   "metadata": {},
   "outputs": [
    {
     "data": {
      "text/plain": [
       "Index(['Administrative', 'Informational', 'ProductRelated', 'BounceRates',\n",
       "       'PageValues', 'SpecialDay', 'Month_cat', 'VisitorType_New_Visitor',\n",
       "       'VisitorType_Returning_Visitor'],\n",
       "      dtype='object')"
      ]
     },
     "execution_count": 32,
     "metadata": {},
     "output_type": "execute_result"
    }
   ],
   "source": [
    "df.columns"
   ]
  },
  {
   "cell_type": "code",
   "execution_count": 33,
   "metadata": {},
   "outputs": [],
   "source": [
    "df_ =df.drop(['Informational','VisitorType_New_Visitor'],axis=1)"
   ]
  },
  {
   "cell_type": "code",
   "execution_count": 34,
   "metadata": {},
   "outputs": [],
   "source": [
    "X_train,X_test,Y_train,Y_test=train_test_split(df_.values,res.values,test_size=0.3,random_state=42)"
   ]
  },
  {
   "cell_type": "code",
   "execution_count": 35,
   "metadata": {},
   "outputs": [],
   "source": [
    "from sklearn.preprocessing import StandardScaler\n",
    "from sklearn import preprocessing\n",
    "scaler=StandardScaler()\n",
    "scaler.fit(X_train)\n",
    "X_scaled=scaler.transform(X_train)\n",
    "X_test=preprocessing.scale(X_test)"
   ]
  },
  {
   "cell_type": "code",
   "execution_count": 36,
   "metadata": {},
   "outputs": [
    {
     "name": "stdout",
     "output_type": "stream",
     "text": [
      "Optimization terminated successfully.\n",
      "         Current function value: 0.528952\n",
      "         Iterations 7\n"
     ]
    }
   ],
   "source": [
    "log=sm.Logit(Y_train.ravel(),X_scaled).fit()"
   ]
  },
  {
   "cell_type": "code",
   "execution_count": 37,
   "metadata": {},
   "outputs": [
    {
     "name": "stdout",
     "output_type": "stream",
     "text": [
      "                           Logit Regression Results                           \n",
      "==============================================================================\n",
      "Dep. Variable:                      y   No. Observations:                 8631\n",
      "Model:                          Logit   Df Residuals:                     8624\n",
      "Method:                           MLE   Df Model:                            6\n",
      "Date:                Mon, 03 May 2021   Pseudo R-squ.:                 -0.2292\n",
      "Time:                        13:42:06   Log-Likelihood:                -4565.4\n",
      "converged:                       True   LL-Null:                       -3714.3\n",
      "Covariance Type:            nonrobust   LLR p-value:                     1.000\n",
      "==============================================================================\n",
      "                 coef    std err          z      P>|z|      [0.025      0.975]\n",
      "------------------------------------------------------------------------------\n",
      "x1            -0.1359      0.030     -4.558      0.000      -0.194      -0.077\n",
      "x2             0.1708      0.028      6.194      0.000       0.117       0.225\n",
      "x3            -0.0553      0.027     -2.045      0.041      -0.108      -0.002\n",
      "x4             3.1704      0.081     39.204      0.000       3.012       3.329\n",
      "x5            -0.0730      0.026     -2.784      0.005      -0.124      -0.022\n",
      "x6             0.1222      0.026      4.680      0.000       0.071       0.173\n",
      "x7            -0.1380      0.026     -5.251      0.000      -0.189      -0.086\n",
      "==============================================================================\n"
     ]
    }
   ],
   "source": [
    "print(log.summary())"
   ]
  },
  {
   "cell_type": "markdown",
   "metadata": {},
   "source": [
    "* Now we are left with the most significant features, so we can proceed with building the model"
   ]
  },
  {
   "cell_type": "code",
   "execution_count": 38,
   "metadata": {},
   "outputs": [],
   "source": [
    "from sklearn.linear_model import LogisticRegression"
   ]
  },
  {
   "cell_type": "code",
   "execution_count": 39,
   "metadata": {},
   "outputs": [],
   "source": [
    "lr=LogisticRegression()"
   ]
  },
  {
   "cell_type": "code",
   "execution_count": 40,
   "metadata": {},
   "outputs": [
    {
     "data": {
      "text/plain": [
       "Index(['Administrative', 'Informational', 'ProductRelated', 'BounceRates',\n",
       "       'PageValues', 'SpecialDay', 'Month_cat', 'VisitorType_New_Visitor',\n",
       "       'VisitorType_Returning_Visitor'],\n",
       "      dtype='object')"
      ]
     },
     "execution_count": 40,
     "metadata": {},
     "output_type": "execute_result"
    }
   ],
   "source": [
    "df.columns"
   ]
  },
  {
   "cell_type": "code",
   "execution_count": 41,
   "metadata": {},
   "outputs": [
    {
     "data": {
      "text/plain": [
       "LogisticRegression(C=1.0, class_weight=None, dual=False, fit_intercept=True,\n",
       "                   intercept_scaling=1, l1_ratio=None, max_iter=100,\n",
       "                   multi_class='auto', n_jobs=None, penalty='l2',\n",
       "                   random_state=None, solver='lbfgs', tol=0.0001, verbose=0,\n",
       "                   warm_start=False)"
      ]
     },
     "execution_count": 41,
     "metadata": {},
     "output_type": "execute_result"
    }
   ],
   "source": [
    "lr.fit(X_scaled,Y_train.ravel())"
   ]
  },
  {
   "cell_type": "markdown",
   "metadata": {},
   "source": [
    "## Evaluating the Model"
   ]
  },
  {
   "cell_type": "markdown",
   "metadata": {},
   "source": [
    "* Now we are done with training the model, now it's time to evaluate the model.\n",
    "* This is not a perfect classification model, this is a propensity model, so we can't use ROC curve or Confusion matrix to evaluate the model but we are using **Decile Analysis**."
   ]
  },
  {
   "cell_type": "code",
   "execution_count": 42,
   "metadata": {},
   "outputs": [],
   "source": [
    "prob_tr=lr.predict_proba(X_train)"
   ]
  },
  {
   "cell_type": "code",
   "execution_count": 43,
   "metadata": {},
   "outputs": [],
   "source": [
    "prob_tst=lr.predict_proba(X_test)"
   ]
  },
  {
   "cell_type": "code",
   "execution_count": 44,
   "metadata": {},
   "outputs": [
    {
     "data": {
      "text/plain": [
       "array([[0.88464881, 0.11535119],\n",
       "       [0.86191659, 0.13808341],\n",
       "       [0.76826081, 0.23173919],\n",
       "       ...,\n",
       "       [0.97798978, 0.02201022],\n",
       "       [0.05618518, 0.94381482],\n",
       "       [0.90621508, 0.09378492]])"
      ]
     },
     "execution_count": 44,
     "metadata": {},
     "output_type": "execute_result"
    }
   ],
   "source": [
    "prob_tst"
   ]
  },
  {
   "cell_type": "code",
   "execution_count": 45,
   "metadata": {},
   "outputs": [
    {
     "data": {
      "text/plain": [
       "array([[0.63975036, 0.36024964],\n",
       "       [0.5348296 , 0.4651704 ],\n",
       "       [0.22359678, 0.77640322],\n",
       "       ...,\n",
       "       [0.46679197, 0.53320803],\n",
       "       [0.05924075, 0.94075925],\n",
       "       [0.08521526, 0.91478474]])"
      ]
     },
     "execution_count": 45,
     "metadata": {},
     "output_type": "execute_result"
    }
   ],
   "source": [
    "prob_tr"
   ]
  },
  {
   "cell_type": "code",
   "execution_count": 46,
   "metadata": {},
   "outputs": [],
   "source": [
    "probs=[]\n",
    "for i in range(len(list(prob_tr))):\n",
    "    probs.append(prob_tr[i][1])"
   ]
  },
  {
   "cell_type": "code",
   "execution_count": 47,
   "metadata": {},
   "outputs": [],
   "source": [
    "probs_tst=[]\n",
    "for i in range(len(list(prob_tst))):\n",
    "    probs_tst.append(prob_tst[i][1])"
   ]
  },
  {
   "cell_type": "code",
   "execution_count": 48,
   "metadata": {},
   "outputs": [
    {
     "data": {
      "text/plain": [
       "(3699, 8631)"
      ]
     },
     "execution_count": 48,
     "metadata": {},
     "output_type": "execute_result"
    }
   ],
   "source": [
    "len(probs_tst), len(probs)"
   ]
  },
  {
   "cell_type": "code",
   "execution_count": 49,
   "metadata": {},
   "outputs": [],
   "source": [
    "conc=pd.DataFrame()"
   ]
  },
  {
   "cell_type": "code",
   "execution_count": 50,
   "metadata": {},
   "outputs": [
    {
     "data": {
      "text/plain": [
       "8631"
      ]
     },
     "execution_count": 50,
     "metadata": {},
     "output_type": "execute_result"
    }
   ],
   "source": [
    "len(probs)"
   ]
  },
  {
   "cell_type": "code",
   "execution_count": 51,
   "metadata": {},
   "outputs": [],
   "source": [
    "conc=pd.DataFrame()\n",
    "conc['Probs']=probs_tst\n",
    "conc['Class']=Y_test\n",
    "class_0= conc[conc['Class']==0]['Probs']\n",
    "class_1=conc[conc['Class']==1]['Probs']"
   ]
  },
  {
   "cell_type": "code",
   "execution_count": 52,
   "metadata": {},
   "outputs": [
    {
     "name": "stdout",
     "output_type": "stream",
     "text": [
      "1599773\n",
      "1796300\n",
      "Concordance = 0.8905934420753772\n"
     ]
    }
   ],
   "source": [
    "con=0\n",
    "pairs=0\n",
    "for i in class_0:\n",
    "    for j in class_1:\n",
    "        if j>=i:\n",
    "            con+=1\n",
    "        pairs+=1\n",
    "print(con)\n",
    "print(pairs)\n",
    "print('Concordance =',con/pairs)"
   ]
  },
  {
   "cell_type": "code",
   "execution_count": 53,
   "metadata": {},
   "outputs": [],
   "source": [
    "dec_rank=pd.qcut(probs,10,labels=False,duplicates='drop')"
   ]
  },
  {
   "cell_type": "code",
   "execution_count": 54,
   "metadata": {},
   "outputs": [],
   "source": [
    "dec_rank_tst=pd.qcut(probs_tst,10,labels=False,duplicates='drop')"
   ]
  },
  {
   "cell_type": "code",
   "execution_count": 55,
   "metadata": {},
   "outputs": [],
   "source": [
    "train=pd.DataFrame()\n",
    "train['probs']=probs\n",
    "train['dec_rank']=dec_rank"
   ]
  },
  {
   "cell_type": "code",
   "execution_count": 56,
   "metadata": {},
   "outputs": [],
   "source": [
    "test=pd.DataFrame()\n",
    "test['probs']=probs_tst\n",
    "test['dec_rank']=dec_rank_tst"
   ]
  },
  {
   "cell_type": "code",
   "execution_count": 57,
   "metadata": {},
   "outputs": [],
   "source": [
    "train['index']=range(8631)"
   ]
  },
  {
   "cell_type": "code",
   "execution_count": 58,
   "metadata": {},
   "outputs": [],
   "source": [
    "test['index']=range(3699)"
   ]
  },
  {
   "cell_type": "code",
   "execution_count": 59,
   "metadata": {},
   "outputs": [
    {
     "data": {
      "text/plain": [
       "1.0"
      ]
     },
     "execution_count": 59,
     "metadata": {},
     "output_type": "execute_result"
    }
   ],
   "source": [
    "train.probs.max()"
   ]
  },
  {
   "cell_type": "code",
   "execution_count": 60,
   "metadata": {},
   "outputs": [
    {
     "data": {
      "text/plain": [
       "0.9999999995426718"
      ]
     },
     "execution_count": 60,
     "metadata": {},
     "output_type": "execute_result"
    }
   ],
   "source": [
    "test.probs.max()"
   ]
  },
  {
   "cell_type": "code",
   "execution_count": 61,
   "metadata": {},
   "outputs": [
    {
     "data": {
      "text/plain": [
       "8    1726\n",
       "0     866\n",
       "7     863\n",
       "6     863\n",
       "5     863\n",
       "4     863\n",
       "3     863\n",
       "2     863\n",
       "1     861\n",
       "Name: dec_rank, dtype: int64"
      ]
     },
     "execution_count": 61,
     "metadata": {},
     "output_type": "execute_result"
    }
   ],
   "source": [
    "train['dec_rank'].value_counts()"
   ]
  },
  {
   "cell_type": "code",
   "execution_count": 62,
   "metadata": {},
   "outputs": [
    {
     "data": {
      "text/plain": [
       "3    371\n",
       "9    370\n",
       "7    370\n",
       "1    370\n",
       "8    370\n",
       "6    370\n",
       "2    370\n",
       "0    370\n",
       "5    369\n",
       "4    369\n",
       "Name: dec_rank, dtype: int64"
      ]
     },
     "execution_count": 62,
     "metadata": {},
     "output_type": "execute_result"
    }
   ],
   "source": [
    "test['dec_rank'].value_counts()"
   ]
  },
  {
   "cell_type": "code",
   "execution_count": 63,
   "metadata": {},
   "outputs": [],
   "source": [
    "dec_lst , ind_lst=[],[]\n",
    "for i in range(2,11):\n",
    "    dec,ind = train[train['dec_rank']==10-i]['probs'],train[train['dec_rank']==10-i]['index']\n",
    "    dec_lst.append(dec)\n",
    "    ind_lst.append(ind)"
   ]
  },
  {
   "cell_type": "code",
   "execution_count": 64,
   "metadata": {},
   "outputs": [],
   "source": [
    "dec_lst_tst, ind_lst_tst=[],[]\n",
    "for i in range(1,11):\n",
    "    dec,ind = test[test['dec_rank']==10-i]['probs'],test[test['dec_rank']==10-i]['index']\n",
    "    dec_lst_tst.append(dec)\n",
    "    ind_lst_tst.append(ind)"
   ]
  },
  {
   "cell_type": "code",
   "execution_count": 65,
   "metadata": {},
   "outputs": [
    {
     "data": {
      "text/plain": [
       "8631"
      ]
     },
     "execution_count": 65,
     "metadata": {},
     "output_type": "execute_result"
    }
   ],
   "source": [
    "len(Y_train)"
   ]
  },
  {
   "cell_type": "code",
   "execution_count": 66,
   "metadata": {},
   "outputs": [
    {
     "data": {
      "text/plain": [
       "[1726, 863, 863, 863, 863, 863, 863, 861, 866]"
      ]
     },
     "execution_count": 66,
     "metadata": {},
     "output_type": "execute_result"
    }
   ],
   "source": [
    "dec_lst_len=[]\n",
    "for i in dec_lst:\n",
    "    dec_lst_len.append(len(i))\n",
    "dec_lst_len"
   ]
  },
  {
   "cell_type": "code",
   "execution_count": 67,
   "metadata": {},
   "outputs": [
    {
     "data": {
      "text/plain": [
       "[370, 370, 370, 370, 369, 369, 371, 370, 370, 370]"
      ]
     },
     "execution_count": 67,
     "metadata": {},
     "output_type": "execute_result"
    }
   ],
   "source": [
    "dec_lst_len_tst=[]\n",
    "for i in dec_lst_tst:\n",
    "    dec_lst_len_tst.append(len(i))\n",
    "dec_lst_len_tst"
   ]
  },
  {
   "cell_type": "code",
   "execution_count": 68,
   "metadata": {},
   "outputs": [],
   "source": [
    "Y_train_df=pd.DataFrame()\n",
    "\n",
    "Y_test_df=pd.DataFrame()\n",
    "\n",
    "Y_test_df[\"Y_test\"]=Y_test.ravel()\n",
    "\n",
    "Y_train_df['Y_train']=Y_train.ravel()\n",
    "\n",
    "Y_train_df['index']=range(8631)\n",
    "\n",
    "Y_test_df['index']=range(3699)"
   ]
  },
  {
   "cell_type": "code",
   "execution_count": 69,
   "metadata": {},
   "outputs": [],
   "source": [
    "Resp_all=[]\n",
    "\n",
    "Resp_all_tst=[]"
   ]
  },
  {
   "cell_type": "code",
   "execution_count": 70,
   "metadata": {},
   "outputs": [],
   "source": [
    "for j in range(9):\n",
    "    Resp=[]\n",
    "    for i in ind_lst[j]:\n",
    "        Resp.append(Y_train_df[Y_train_df['index']==i]['Y_train'])\n",
    "    Resp_all.append(Resp)"
   ]
  },
  {
   "cell_type": "code",
   "execution_count": 71,
   "metadata": {},
   "outputs": [],
   "source": [
    "for j in range(10):\n",
    "    Resp=[]\n",
    "    for i in ind_lst_tst[j]:\n",
    "        Resp.append(Y_test_df[Y_test_df['index']==i]['Y_test'])\n",
    "    Resp_all_tst.append(Resp)"
   ]
  },
  {
   "cell_type": "code",
   "execution_count": 72,
   "metadata": {},
   "outputs": [],
   "source": [
    "buyers,buyers_tst=[],[]"
   ]
  },
  {
   "cell_type": "code",
   "execution_count": 73,
   "metadata": {},
   "outputs": [],
   "source": [
    "for j in range(9):\n",
    "    c=0\n",
    "    for i in Resp_all[j]:\n",
    "        if (i==1).bool():\n",
    "            c+=1\n",
    "    buyers.append(c)"
   ]
  },
  {
   "cell_type": "code",
   "execution_count": 74,
   "metadata": {},
   "outputs": [],
   "source": [
    "for j in range(10):\n",
    "    c=0\n",
    "    for i in Resp_all_tst[j]:\n",
    "        if (i==1).bool():\n",
    "            c+=1\n",
    "    buyers_tst.append(c)\n",
    "\n"
   ]
  },
  {
   "cell_type": "code",
   "execution_count": 75,
   "metadata": {},
   "outputs": [],
   "source": [
    "dec_tr=pd.DataFrame()"
   ]
  },
  {
   "cell_type": "code",
   "execution_count": 76,
   "metadata": {},
   "outputs": [],
   "source": [
    "dec_tst=pd.DataFrame()"
   ]
  },
  {
   "cell_type": "code",
   "execution_count": 77,
   "metadata": {},
   "outputs": [],
   "source": [
    "dec_tr['Decile']=range(9)"
   ]
  },
  {
   "cell_type": "code",
   "execution_count": 78,
   "metadata": {},
   "outputs": [],
   "source": [
    "dec_tst['Decile']=range(10)\n"
   ]
  },
  {
   "cell_type": "code",
   "execution_count": 79,
   "metadata": {},
   "outputs": [],
   "source": [
    "dec_tr['No.Of Customers']=dec_lst_len\n"
   ]
  },
  {
   "cell_type": "code",
   "execution_count": 80,
   "metadata": {},
   "outputs": [],
   "source": [
    "dec_tst['No.Of Customers']=dec_lst_len_tst\n",
    "\n",
    "dec_tr['No.Of Buyers'] = buyers\n",
    "\n",
    "dec_tst[\"No.Of Buyers\"]=buyers_tst"
   ]
  },
  {
   "cell_type": "code",
   "execution_count": 81,
   "metadata": {},
   "outputs": [],
   "source": [
    "per=[]\n",
    "for i in range(len(buyers)):\n",
    "    per.append(buyers[i]/dec_lst_len[i])\n",
    "\n",
    "per_tst=[]\n",
    "for i in range(len(buyers_tst)):\n",
    "    per_tst.append(buyers_tst[i]/dec_lst_len_tst[i])\n",
    "\n",
    "dec_tr['Percent of buyers']=per"
   ]
  },
  {
   "cell_type": "code",
   "execution_count": 82,
   "metadata": {},
   "outputs": [],
   "source": [
    "dec_tr['Percent of buyers']=per\n",
    "dec_tst[\"Percent of buyers\"]=per_tst"
   ]
  },
  {
   "cell_type": "code",
   "execution_count": 83,
   "metadata": {},
   "outputs": [
    {
     "data": {
      "text/html": [
       "<div>\n",
       "<style scoped>\n",
       "    .dataframe tbody tr th:only-of-type {\n",
       "        vertical-align: middle;\n",
       "    }\n",
       "\n",
       "    .dataframe tbody tr th {\n",
       "        vertical-align: top;\n",
       "    }\n",
       "\n",
       "    .dataframe thead th {\n",
       "        text-align: right;\n",
       "    }\n",
       "</style>\n",
       "<table border=\"1\" class=\"dataframe\">\n",
       "  <thead>\n",
       "    <tr style=\"text-align: right;\">\n",
       "      <th></th>\n",
       "      <th>Decile</th>\n",
       "      <th>No.Of Customers</th>\n",
       "      <th>No.Of Buyers</th>\n",
       "      <th>Percent of buyers</th>\n",
       "    </tr>\n",
       "  </thead>\n",
       "  <tbody>\n",
       "    <tr>\n",
       "      <th>0</th>\n",
       "      <td>0</td>\n",
       "      <td>1726</td>\n",
       "      <td>929</td>\n",
       "      <td>0.538239</td>\n",
       "    </tr>\n",
       "    <tr>\n",
       "      <th>1</th>\n",
       "      <td>1</td>\n",
       "      <td>863</td>\n",
       "      <td>195</td>\n",
       "      <td>0.225956</td>\n",
       "    </tr>\n",
       "    <tr>\n",
       "      <th>2</th>\n",
       "      <td>2</td>\n",
       "      <td>863</td>\n",
       "      <td>58</td>\n",
       "      <td>0.067207</td>\n",
       "    </tr>\n",
       "    <tr>\n",
       "      <th>3</th>\n",
       "      <td>3</td>\n",
       "      <td>863</td>\n",
       "      <td>32</td>\n",
       "      <td>0.037080</td>\n",
       "    </tr>\n",
       "    <tr>\n",
       "      <th>4</th>\n",
       "      <td>4</td>\n",
       "      <td>863</td>\n",
       "      <td>34</td>\n",
       "      <td>0.039397</td>\n",
       "    </tr>\n",
       "    <tr>\n",
       "      <th>5</th>\n",
       "      <td>5</td>\n",
       "      <td>863</td>\n",
       "      <td>19</td>\n",
       "      <td>0.022016</td>\n",
       "    </tr>\n",
       "    <tr>\n",
       "      <th>6</th>\n",
       "      <td>6</td>\n",
       "      <td>863</td>\n",
       "      <td>27</td>\n",
       "      <td>0.031286</td>\n",
       "    </tr>\n",
       "    <tr>\n",
       "      <th>7</th>\n",
       "      <td>7</td>\n",
       "      <td>861</td>\n",
       "      <td>25</td>\n",
       "      <td>0.029036</td>\n",
       "    </tr>\n",
       "    <tr>\n",
       "      <th>8</th>\n",
       "      <td>8</td>\n",
       "      <td>866</td>\n",
       "      <td>14</td>\n",
       "      <td>0.016166</td>\n",
       "    </tr>\n",
       "  </tbody>\n",
       "</table>\n",
       "</div>"
      ],
      "text/plain": [
       "   Decile  No.Of Customers  No.Of Buyers  Percent of buyers\n",
       "0       0             1726           929           0.538239\n",
       "1       1              863           195           0.225956\n",
       "2       2              863            58           0.067207\n",
       "3       3              863            32           0.037080\n",
       "4       4              863            34           0.039397\n",
       "5       5              863            19           0.022016\n",
       "6       6              863            27           0.031286\n",
       "7       7              861            25           0.029036\n",
       "8       8              866            14           0.016166"
      ]
     },
     "execution_count": 83,
     "metadata": {},
     "output_type": "execute_result"
    }
   ],
   "source": [
    "dec_tr"
   ]
  },
  {
   "cell_type": "code",
   "execution_count": 84,
   "metadata": {},
   "outputs": [
    {
     "data": {
      "text/html": [
       "<div>\n",
       "<style scoped>\n",
       "    .dataframe tbody tr th:only-of-type {\n",
       "        vertical-align: middle;\n",
       "    }\n",
       "\n",
       "    .dataframe tbody tr th {\n",
       "        vertical-align: top;\n",
       "    }\n",
       "\n",
       "    .dataframe thead th {\n",
       "        text-align: right;\n",
       "    }\n",
       "</style>\n",
       "<table border=\"1\" class=\"dataframe\">\n",
       "  <thead>\n",
       "    <tr style=\"text-align: right;\">\n",
       "      <th></th>\n",
       "      <th>Decile</th>\n",
       "      <th>No.Of Customers</th>\n",
       "      <th>No.Of Buyers</th>\n",
       "      <th>Percent of buyers</th>\n",
       "    </tr>\n",
       "  </thead>\n",
       "  <tbody>\n",
       "    <tr>\n",
       "      <th>0</th>\n",
       "      <td>0</td>\n",
       "      <td>370</td>\n",
       "      <td>261</td>\n",
       "      <td>0.705405</td>\n",
       "    </tr>\n",
       "    <tr>\n",
       "      <th>1</th>\n",
       "      <td>1</td>\n",
       "      <td>370</td>\n",
       "      <td>158</td>\n",
       "      <td>0.427027</td>\n",
       "    </tr>\n",
       "    <tr>\n",
       "      <th>2</th>\n",
       "      <td>2</td>\n",
       "      <td>370</td>\n",
       "      <td>66</td>\n",
       "      <td>0.178378</td>\n",
       "    </tr>\n",
       "    <tr>\n",
       "      <th>3</th>\n",
       "      <td>3</td>\n",
       "      <td>370</td>\n",
       "      <td>31</td>\n",
       "      <td>0.083784</td>\n",
       "    </tr>\n",
       "    <tr>\n",
       "      <th>4</th>\n",
       "      <td>4</td>\n",
       "      <td>369</td>\n",
       "      <td>15</td>\n",
       "      <td>0.040650</td>\n",
       "    </tr>\n",
       "    <tr>\n",
       "      <th>5</th>\n",
       "      <td>5</td>\n",
       "      <td>369</td>\n",
       "      <td>10</td>\n",
       "      <td>0.027100</td>\n",
       "    </tr>\n",
       "    <tr>\n",
       "      <th>6</th>\n",
       "      <td>6</td>\n",
       "      <td>371</td>\n",
       "      <td>18</td>\n",
       "      <td>0.048518</td>\n",
       "    </tr>\n",
       "    <tr>\n",
       "      <th>7</th>\n",
       "      <td>7</td>\n",
       "      <td>370</td>\n",
       "      <td>7</td>\n",
       "      <td>0.018919</td>\n",
       "    </tr>\n",
       "    <tr>\n",
       "      <th>8</th>\n",
       "      <td>8</td>\n",
       "      <td>370</td>\n",
       "      <td>8</td>\n",
       "      <td>0.021622</td>\n",
       "    </tr>\n",
       "    <tr>\n",
       "      <th>9</th>\n",
       "      <td>9</td>\n",
       "      <td>370</td>\n",
       "      <td>1</td>\n",
       "      <td>0.002703</td>\n",
       "    </tr>\n",
       "  </tbody>\n",
       "</table>\n",
       "</div>"
      ],
      "text/plain": [
       "   Decile  No.Of Customers  No.Of Buyers  Percent of buyers\n",
       "0       0              370           261           0.705405\n",
       "1       1              370           158           0.427027\n",
       "2       2              370            66           0.178378\n",
       "3       3              370            31           0.083784\n",
       "4       4              369            15           0.040650\n",
       "5       5              369            10           0.027100\n",
       "6       6              371            18           0.048518\n",
       "7       7              370             7           0.018919\n",
       "8       8              370             8           0.021622\n",
       "9       9              370             1           0.002703"
      ]
     },
     "execution_count": 84,
     "metadata": {},
     "output_type": "execute_result"
    }
   ],
   "source": [
    "dec_tst"
   ]
  },
  {
   "cell_type": "code",
   "execution_count": 85,
   "metadata": {},
   "outputs": [],
   "source": [
    "cum_buyers=[]\n",
    "cum_buyers.append(buyers[0])\n",
    "for k in range(1,len(buyers)):\n",
    "    cum_buyers.append(cum_buyers[k-1]+buyers[k])\n",
    "\n",
    "\n",
    "cum_buyers_tst=[]\n",
    "cum_buyers_tst.append(buyers_tst[0])\n",
    "for k in range(1,len(buyers_tst)):\n",
    "    cum_buyers_tst.append(cum_buyers_tst[k-1]+buyers_tst[k])"
   ]
  },
  {
   "cell_type": "code",
   "execution_count": 86,
   "metadata": {},
   "outputs": [],
   "source": [
    "dec_tr[\"Cummulative buyers\"]=cum_buyers\n",
    "\n",
    "dec_tst[\"Cummulative Buyers\"]=cum_buyers_tst"
   ]
  },
  {
   "cell_type": "code",
   "execution_count": 87,
   "metadata": {},
   "outputs": [
    {
     "data": {
      "text/html": [
       "<div>\n",
       "<style scoped>\n",
       "    .dataframe tbody tr th:only-of-type {\n",
       "        vertical-align: middle;\n",
       "    }\n",
       "\n",
       "    .dataframe tbody tr th {\n",
       "        vertical-align: top;\n",
       "    }\n",
       "\n",
       "    .dataframe thead th {\n",
       "        text-align: right;\n",
       "    }\n",
       "</style>\n",
       "<table border=\"1\" class=\"dataframe\">\n",
       "  <thead>\n",
       "    <tr style=\"text-align: right;\">\n",
       "      <th></th>\n",
       "      <th>Decile</th>\n",
       "      <th>No.Of Customers</th>\n",
       "      <th>No.Of Buyers</th>\n",
       "      <th>Percent of buyers</th>\n",
       "      <th>Cummulative buyers</th>\n",
       "    </tr>\n",
       "  </thead>\n",
       "  <tbody>\n",
       "    <tr>\n",
       "      <th>0</th>\n",
       "      <td>0</td>\n",
       "      <td>1726</td>\n",
       "      <td>929</td>\n",
       "      <td>0.538239</td>\n",
       "      <td>929</td>\n",
       "    </tr>\n",
       "    <tr>\n",
       "      <th>1</th>\n",
       "      <td>1</td>\n",
       "      <td>863</td>\n",
       "      <td>195</td>\n",
       "      <td>0.225956</td>\n",
       "      <td>1124</td>\n",
       "    </tr>\n",
       "    <tr>\n",
       "      <th>2</th>\n",
       "      <td>2</td>\n",
       "      <td>863</td>\n",
       "      <td>58</td>\n",
       "      <td>0.067207</td>\n",
       "      <td>1182</td>\n",
       "    </tr>\n",
       "    <tr>\n",
       "      <th>3</th>\n",
       "      <td>3</td>\n",
       "      <td>863</td>\n",
       "      <td>32</td>\n",
       "      <td>0.037080</td>\n",
       "      <td>1214</td>\n",
       "    </tr>\n",
       "    <tr>\n",
       "      <th>4</th>\n",
       "      <td>4</td>\n",
       "      <td>863</td>\n",
       "      <td>34</td>\n",
       "      <td>0.039397</td>\n",
       "      <td>1248</td>\n",
       "    </tr>\n",
       "    <tr>\n",
       "      <th>5</th>\n",
       "      <td>5</td>\n",
       "      <td>863</td>\n",
       "      <td>19</td>\n",
       "      <td>0.022016</td>\n",
       "      <td>1267</td>\n",
       "    </tr>\n",
       "    <tr>\n",
       "      <th>6</th>\n",
       "      <td>6</td>\n",
       "      <td>863</td>\n",
       "      <td>27</td>\n",
       "      <td>0.031286</td>\n",
       "      <td>1294</td>\n",
       "    </tr>\n",
       "    <tr>\n",
       "      <th>7</th>\n",
       "      <td>7</td>\n",
       "      <td>861</td>\n",
       "      <td>25</td>\n",
       "      <td>0.029036</td>\n",
       "      <td>1319</td>\n",
       "    </tr>\n",
       "    <tr>\n",
       "      <th>8</th>\n",
       "      <td>8</td>\n",
       "      <td>866</td>\n",
       "      <td>14</td>\n",
       "      <td>0.016166</td>\n",
       "      <td>1333</td>\n",
       "    </tr>\n",
       "  </tbody>\n",
       "</table>\n",
       "</div>"
      ],
      "text/plain": [
       "   Decile  No.Of Customers  No.Of Buyers  Percent of buyers  \\\n",
       "0       0             1726           929           0.538239   \n",
       "1       1              863           195           0.225956   \n",
       "2       2              863            58           0.067207   \n",
       "3       3              863            32           0.037080   \n",
       "4       4              863            34           0.039397   \n",
       "5       5              863            19           0.022016   \n",
       "6       6              863            27           0.031286   \n",
       "7       7              861            25           0.029036   \n",
       "8       8              866            14           0.016166   \n",
       "\n",
       "   Cummulative buyers  \n",
       "0                 929  \n",
       "1                1124  \n",
       "2                1182  \n",
       "3                1214  \n",
       "4                1248  \n",
       "5                1267  \n",
       "6                1294  \n",
       "7                1319  \n",
       "8                1333  "
      ]
     },
     "execution_count": 87,
     "metadata": {},
     "output_type": "execute_result"
    }
   ],
   "source": [
    "dec_tr"
   ]
  },
  {
   "cell_type": "code",
   "execution_count": 88,
   "metadata": {},
   "outputs": [
    {
     "data": {
      "text/html": [
       "<div>\n",
       "<style scoped>\n",
       "    .dataframe tbody tr th:only-of-type {\n",
       "        vertical-align: middle;\n",
       "    }\n",
       "\n",
       "    .dataframe tbody tr th {\n",
       "        vertical-align: top;\n",
       "    }\n",
       "\n",
       "    .dataframe thead th {\n",
       "        text-align: right;\n",
       "    }\n",
       "</style>\n",
       "<table border=\"1\" class=\"dataframe\">\n",
       "  <thead>\n",
       "    <tr style=\"text-align: right;\">\n",
       "      <th></th>\n",
       "      <th>Decile</th>\n",
       "      <th>No.Of Customers</th>\n",
       "      <th>No.Of Buyers</th>\n",
       "      <th>Percent of buyers</th>\n",
       "      <th>Cummulative Buyers</th>\n",
       "    </tr>\n",
       "  </thead>\n",
       "  <tbody>\n",
       "    <tr>\n",
       "      <th>0</th>\n",
       "      <td>0</td>\n",
       "      <td>370</td>\n",
       "      <td>261</td>\n",
       "      <td>0.705405</td>\n",
       "      <td>261</td>\n",
       "    </tr>\n",
       "    <tr>\n",
       "      <th>1</th>\n",
       "      <td>1</td>\n",
       "      <td>370</td>\n",
       "      <td>158</td>\n",
       "      <td>0.427027</td>\n",
       "      <td>419</td>\n",
       "    </tr>\n",
       "    <tr>\n",
       "      <th>2</th>\n",
       "      <td>2</td>\n",
       "      <td>370</td>\n",
       "      <td>66</td>\n",
       "      <td>0.178378</td>\n",
       "      <td>485</td>\n",
       "    </tr>\n",
       "    <tr>\n",
       "      <th>3</th>\n",
       "      <td>3</td>\n",
       "      <td>370</td>\n",
       "      <td>31</td>\n",
       "      <td>0.083784</td>\n",
       "      <td>516</td>\n",
       "    </tr>\n",
       "    <tr>\n",
       "      <th>4</th>\n",
       "      <td>4</td>\n",
       "      <td>369</td>\n",
       "      <td>15</td>\n",
       "      <td>0.040650</td>\n",
       "      <td>531</td>\n",
       "    </tr>\n",
       "    <tr>\n",
       "      <th>5</th>\n",
       "      <td>5</td>\n",
       "      <td>369</td>\n",
       "      <td>10</td>\n",
       "      <td>0.027100</td>\n",
       "      <td>541</td>\n",
       "    </tr>\n",
       "    <tr>\n",
       "      <th>6</th>\n",
       "      <td>6</td>\n",
       "      <td>371</td>\n",
       "      <td>18</td>\n",
       "      <td>0.048518</td>\n",
       "      <td>559</td>\n",
       "    </tr>\n",
       "    <tr>\n",
       "      <th>7</th>\n",
       "      <td>7</td>\n",
       "      <td>370</td>\n",
       "      <td>7</td>\n",
       "      <td>0.018919</td>\n",
       "      <td>566</td>\n",
       "    </tr>\n",
       "    <tr>\n",
       "      <th>8</th>\n",
       "      <td>8</td>\n",
       "      <td>370</td>\n",
       "      <td>8</td>\n",
       "      <td>0.021622</td>\n",
       "      <td>574</td>\n",
       "    </tr>\n",
       "    <tr>\n",
       "      <th>9</th>\n",
       "      <td>9</td>\n",
       "      <td>370</td>\n",
       "      <td>1</td>\n",
       "      <td>0.002703</td>\n",
       "      <td>575</td>\n",
       "    </tr>\n",
       "  </tbody>\n",
       "</table>\n",
       "</div>"
      ],
      "text/plain": [
       "   Decile  No.Of Customers  No.Of Buyers  Percent of buyers  \\\n",
       "0       0              370           261           0.705405   \n",
       "1       1              370           158           0.427027   \n",
       "2       2              370            66           0.178378   \n",
       "3       3              370            31           0.083784   \n",
       "4       4              369            15           0.040650   \n",
       "5       5              369            10           0.027100   \n",
       "6       6              371            18           0.048518   \n",
       "7       7              370             7           0.018919   \n",
       "8       8              370             8           0.021622   \n",
       "9       9              370             1           0.002703   \n",
       "\n",
       "   Cummulative Buyers  \n",
       "0                 261  \n",
       "1                 419  \n",
       "2                 485  \n",
       "3                 516  \n",
       "4                 531  \n",
       "5                 541  \n",
       "6                 559  \n",
       "7                 566  \n",
       "8                 574  \n",
       "9                 575  "
      ]
     },
     "execution_count": 88,
     "metadata": {},
     "output_type": "execute_result"
    }
   ],
   "source": [
    "dec_tst"
   ]
  },
  {
   "cell_type": "code",
   "execution_count": 89,
   "metadata": {},
   "outputs": [],
   "source": [
    "cum_per=[]\n",
    "for i in range(9):\n",
    "    cum_per.append(cum_buyers[i]/1333)\n",
    "\n",
    "cum_per_tst=[]\n",
    "for i in range(10):\n",
    "    cum_per_tst.append(cum_buyers_tst[i]/575)"
   ]
  },
  {
   "cell_type": "code",
   "execution_count": 90,
   "metadata": {},
   "outputs": [],
   "source": [
    "dec_tr['Cummulative Percent']=cum_per\n",
    "\n",
    "dec_tst['Cummulative Percent']=cum_per_tst"
   ]
  },
  {
   "cell_type": "code",
   "execution_count": 91,
   "metadata": {},
   "outputs": [
    {
     "data": {
      "text/html": [
       "<div>\n",
       "<style scoped>\n",
       "    .dataframe tbody tr th:only-of-type {\n",
       "        vertical-align: middle;\n",
       "    }\n",
       "\n",
       "    .dataframe tbody tr th {\n",
       "        vertical-align: top;\n",
       "    }\n",
       "\n",
       "    .dataframe thead th {\n",
       "        text-align: right;\n",
       "    }\n",
       "</style>\n",
       "<table border=\"1\" class=\"dataframe\">\n",
       "  <thead>\n",
       "    <tr style=\"text-align: right;\">\n",
       "      <th></th>\n",
       "      <th>Decile</th>\n",
       "      <th>No.Of Customers</th>\n",
       "      <th>No.Of Buyers</th>\n",
       "      <th>Percent of buyers</th>\n",
       "      <th>Cummulative buyers</th>\n",
       "      <th>Cummulative Percent</th>\n",
       "    </tr>\n",
       "  </thead>\n",
       "  <tbody>\n",
       "    <tr>\n",
       "      <th>0</th>\n",
       "      <td>0</td>\n",
       "      <td>1726</td>\n",
       "      <td>929</td>\n",
       "      <td>0.538239</td>\n",
       "      <td>929</td>\n",
       "      <td>0.696924</td>\n",
       "    </tr>\n",
       "    <tr>\n",
       "      <th>1</th>\n",
       "      <td>1</td>\n",
       "      <td>863</td>\n",
       "      <td>195</td>\n",
       "      <td>0.225956</td>\n",
       "      <td>1124</td>\n",
       "      <td>0.843211</td>\n",
       "    </tr>\n",
       "    <tr>\n",
       "      <th>2</th>\n",
       "      <td>2</td>\n",
       "      <td>863</td>\n",
       "      <td>58</td>\n",
       "      <td>0.067207</td>\n",
       "      <td>1182</td>\n",
       "      <td>0.886722</td>\n",
       "    </tr>\n",
       "    <tr>\n",
       "      <th>3</th>\n",
       "      <td>3</td>\n",
       "      <td>863</td>\n",
       "      <td>32</td>\n",
       "      <td>0.037080</td>\n",
       "      <td>1214</td>\n",
       "      <td>0.910728</td>\n",
       "    </tr>\n",
       "    <tr>\n",
       "      <th>4</th>\n",
       "      <td>4</td>\n",
       "      <td>863</td>\n",
       "      <td>34</td>\n",
       "      <td>0.039397</td>\n",
       "      <td>1248</td>\n",
       "      <td>0.936234</td>\n",
       "    </tr>\n",
       "    <tr>\n",
       "      <th>5</th>\n",
       "      <td>5</td>\n",
       "      <td>863</td>\n",
       "      <td>19</td>\n",
       "      <td>0.022016</td>\n",
       "      <td>1267</td>\n",
       "      <td>0.950488</td>\n",
       "    </tr>\n",
       "    <tr>\n",
       "      <th>6</th>\n",
       "      <td>6</td>\n",
       "      <td>863</td>\n",
       "      <td>27</td>\n",
       "      <td>0.031286</td>\n",
       "      <td>1294</td>\n",
       "      <td>0.970743</td>\n",
       "    </tr>\n",
       "    <tr>\n",
       "      <th>7</th>\n",
       "      <td>7</td>\n",
       "      <td>861</td>\n",
       "      <td>25</td>\n",
       "      <td>0.029036</td>\n",
       "      <td>1319</td>\n",
       "      <td>0.989497</td>\n",
       "    </tr>\n",
       "    <tr>\n",
       "      <th>8</th>\n",
       "      <td>8</td>\n",
       "      <td>866</td>\n",
       "      <td>14</td>\n",
       "      <td>0.016166</td>\n",
       "      <td>1333</td>\n",
       "      <td>1.000000</td>\n",
       "    </tr>\n",
       "  </tbody>\n",
       "</table>\n",
       "</div>"
      ],
      "text/plain": [
       "   Decile  No.Of Customers  No.Of Buyers  Percent of buyers  \\\n",
       "0       0             1726           929           0.538239   \n",
       "1       1              863           195           0.225956   \n",
       "2       2              863            58           0.067207   \n",
       "3       3              863            32           0.037080   \n",
       "4       4              863            34           0.039397   \n",
       "5       5              863            19           0.022016   \n",
       "6       6              863            27           0.031286   \n",
       "7       7              861            25           0.029036   \n",
       "8       8              866            14           0.016166   \n",
       "\n",
       "   Cummulative buyers  Cummulative Percent  \n",
       "0                 929             0.696924  \n",
       "1                1124             0.843211  \n",
       "2                1182             0.886722  \n",
       "3                1214             0.910728  \n",
       "4                1248             0.936234  \n",
       "5                1267             0.950488  \n",
       "6                1294             0.970743  \n",
       "7                1319             0.989497  \n",
       "8                1333             1.000000  "
      ]
     },
     "execution_count": 91,
     "metadata": {},
     "output_type": "execute_result"
    }
   ],
   "source": [
    "dec_tr"
   ]
  },
  {
   "cell_type": "markdown",
   "metadata": {},
   "source": [
    "Let us check the decile table of training data(above table).\n",
    "We can see that 1st decile contains 69% of total buyers, 2nd decile contains 84% of the total buyers, 3rd decile contains 88% of total buyers. That means only top 30% of the total observations contains 88% of our buyers. So, company can concentrate on just 30% of total people for their marketing campaigns etc. So, they don’t need to waste their time and resources for the other 70% people."
   ]
  },
  {
   "cell_type": "code",
   "execution_count": 92,
   "metadata": {},
   "outputs": [
    {
     "data": {
      "text/html": [
       "<div>\n",
       "<style scoped>\n",
       "    .dataframe tbody tr th:only-of-type {\n",
       "        vertical-align: middle;\n",
       "    }\n",
       "\n",
       "    .dataframe tbody tr th {\n",
       "        vertical-align: top;\n",
       "    }\n",
       "\n",
       "    .dataframe thead th {\n",
       "        text-align: right;\n",
       "    }\n",
       "</style>\n",
       "<table border=\"1\" class=\"dataframe\">\n",
       "  <thead>\n",
       "    <tr style=\"text-align: right;\">\n",
       "      <th></th>\n",
       "      <th>Decile</th>\n",
       "      <th>No.Of Customers</th>\n",
       "      <th>No.Of Buyers</th>\n",
       "      <th>Percent of buyers</th>\n",
       "      <th>Cummulative Buyers</th>\n",
       "      <th>Cummulative Percent</th>\n",
       "    </tr>\n",
       "  </thead>\n",
       "  <tbody>\n",
       "    <tr>\n",
       "      <th>0</th>\n",
       "      <td>0</td>\n",
       "      <td>370</td>\n",
       "      <td>261</td>\n",
       "      <td>0.705405</td>\n",
       "      <td>261</td>\n",
       "      <td>0.453913</td>\n",
       "    </tr>\n",
       "    <tr>\n",
       "      <th>1</th>\n",
       "      <td>1</td>\n",
       "      <td>370</td>\n",
       "      <td>158</td>\n",
       "      <td>0.427027</td>\n",
       "      <td>419</td>\n",
       "      <td>0.728696</td>\n",
       "    </tr>\n",
       "    <tr>\n",
       "      <th>2</th>\n",
       "      <td>2</td>\n",
       "      <td>370</td>\n",
       "      <td>66</td>\n",
       "      <td>0.178378</td>\n",
       "      <td>485</td>\n",
       "      <td>0.843478</td>\n",
       "    </tr>\n",
       "    <tr>\n",
       "      <th>3</th>\n",
       "      <td>3</td>\n",
       "      <td>370</td>\n",
       "      <td>31</td>\n",
       "      <td>0.083784</td>\n",
       "      <td>516</td>\n",
       "      <td>0.897391</td>\n",
       "    </tr>\n",
       "    <tr>\n",
       "      <th>4</th>\n",
       "      <td>4</td>\n",
       "      <td>369</td>\n",
       "      <td>15</td>\n",
       "      <td>0.040650</td>\n",
       "      <td>531</td>\n",
       "      <td>0.923478</td>\n",
       "    </tr>\n",
       "    <tr>\n",
       "      <th>5</th>\n",
       "      <td>5</td>\n",
       "      <td>369</td>\n",
       "      <td>10</td>\n",
       "      <td>0.027100</td>\n",
       "      <td>541</td>\n",
       "      <td>0.940870</td>\n",
       "    </tr>\n",
       "    <tr>\n",
       "      <th>6</th>\n",
       "      <td>6</td>\n",
       "      <td>371</td>\n",
       "      <td>18</td>\n",
       "      <td>0.048518</td>\n",
       "      <td>559</td>\n",
       "      <td>0.972174</td>\n",
       "    </tr>\n",
       "    <tr>\n",
       "      <th>7</th>\n",
       "      <td>7</td>\n",
       "      <td>370</td>\n",
       "      <td>7</td>\n",
       "      <td>0.018919</td>\n",
       "      <td>566</td>\n",
       "      <td>0.984348</td>\n",
       "    </tr>\n",
       "    <tr>\n",
       "      <th>8</th>\n",
       "      <td>8</td>\n",
       "      <td>370</td>\n",
       "      <td>8</td>\n",
       "      <td>0.021622</td>\n",
       "      <td>574</td>\n",
       "      <td>0.998261</td>\n",
       "    </tr>\n",
       "    <tr>\n",
       "      <th>9</th>\n",
       "      <td>9</td>\n",
       "      <td>370</td>\n",
       "      <td>1</td>\n",
       "      <td>0.002703</td>\n",
       "      <td>575</td>\n",
       "      <td>1.000000</td>\n",
       "    </tr>\n",
       "  </tbody>\n",
       "</table>\n",
       "</div>"
      ],
      "text/plain": [
       "   Decile  No.Of Customers  No.Of Buyers  Percent of buyers  \\\n",
       "0       0              370           261           0.705405   \n",
       "1       1              370           158           0.427027   \n",
       "2       2              370            66           0.178378   \n",
       "3       3              370            31           0.083784   \n",
       "4       4              369            15           0.040650   \n",
       "5       5              369            10           0.027100   \n",
       "6       6              371            18           0.048518   \n",
       "7       7              370             7           0.018919   \n",
       "8       8              370             8           0.021622   \n",
       "9       9              370             1           0.002703   \n",
       "\n",
       "   Cummulative Buyers  Cummulative Percent  \n",
       "0                 261             0.453913  \n",
       "1                 419             0.728696  \n",
       "2                 485             0.843478  \n",
       "3                 516             0.897391  \n",
       "4                 531             0.923478  \n",
       "5                 541             0.940870  \n",
       "6                 559             0.972174  \n",
       "7                 566             0.984348  \n",
       "8                 574             0.998261  \n",
       "9                 575             1.000000  "
      ]
     },
     "execution_count": 92,
     "metadata": {},
     "output_type": "execute_result"
    }
   ],
   "source": [
    "dec_tst"
   ]
  },
  {
   "cell_type": "markdown",
   "metadata": {},
   "source": [
    "Similarly, you can analyze the test data decile table also."
   ]
  },
  {
   "cell_type": "code",
   "execution_count": null,
   "metadata": {},
   "outputs": [],
   "source": []
  }
 ],
 "metadata": {
  "kernelspec": {
   "display_name": "Python 3",
   "language": "python",
   "name": "python3"
  },
  "language_info": {
   "codemirror_mode": {
    "name": "ipython",
    "version": 3
   },
   "file_extension": ".py",
   "mimetype": "text/x-python",
   "name": "python",
   "nbconvert_exporter": "python",
   "pygments_lexer": "ipython3",
   "version": "3.7.6"
  }
 },
 "nbformat": 4,
 "nbformat_minor": 4
}
